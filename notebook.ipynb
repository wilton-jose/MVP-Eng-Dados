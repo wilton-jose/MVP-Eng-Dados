{
 "cells": [
  {
   "cell_type": "markdown",
   "metadata": {
    "application/vnd.databricks.v1+cell": {
     "cellMetadata": {
      "byteLimit": 2048000,
      "rowLimit": 10000
     },
     "inputWidgets": {},
     "nuid": "5471c2b9-8fd4-4c8f-9ea4-1fd1c3e359c5",
     "showTitle": false,
     "tableResultSettingsMap": {},
     "title": ""
    }
   },
   "source": [
    "# MVP ENGENHARIA DE DADOS - PUC RIO\n",
    "\n",
    "**Aluno:** Wilton José da Silva Júnior"
   ]
  },
  {
   "cell_type": "markdown",
   "metadata": {
    "application/vnd.databricks.v1+cell": {
     "cellMetadata": {},
     "inputWidgets": {},
     "nuid": "685c1270-40c1-4594-a9b8-5491dc6f164c",
     "showTitle": false,
     "tableResultSettingsMap": {},
     "title": ""
    }
   },
   "source": [
    "## Introdução\n",
    "**Contexto Setorial**: \n",
    "- O Brasil possui a 6ª maior matriz energética do mundo, com desafios únicos de distribuição\n",
    "- Perdas de 16,9% na transmissão (fonte: ANEEL 2023)\n",
    "\n",
    "**Objetivos**:\n",
    "\n",
    "Este projeto tem como objetivo analisar o consumo de energia elétrica no Brasil entre os anos de 2018 e 2020, utilizando dados públicos da CCEE (Câmara de Comercialização de Energia Elétrica). Através da aplicação de técnicas de engenharia de dados, buscamos responder a perguntas sobre o consumo energético no país, como:\n",
    "\n",
    "- Como o consumo varia por região/estado ao longo do ano?\n",
    "- Quais ramos de atividade têm os maiores consumos?\n",
    "- Existem padrões sazonais significativos no consumo?\n",
    "- Quais estados apresentam maior crescimento no consumo?\n",
    "\n",
    "Para alcançar este objetivo, construiremos um pipeline de dados utilizando o Apache Spark, que processará os dados brutos da CCEE e os organizará em um Data Lakehouse estruturado em camadas Bronze, Silver e Gold. A camada Bronze armazenará os dados brutos, a Silver conterá os dados limpos e transformados, e a Gold conterá as agregações e insights gerados a partir da análise dos dados.\n",
    "\n",
    "Com a análise dos dados, esperamos identificar tendências, padrões e insights relevantes para o setor energético brasileiro. As informações obtidas poderão ser utilizadas para otimizar a distribuição de energia, identificar oportunidades de eficiência energética e auxiliar na tomada de decisões estratégicas para o setor.\n",
    "\n",
    "## Estrutura do Projeto\n",
    "\n",
    "O projeto está organizado da seguinte forma:\n",
    "\n",
    "1. **Coleta e Ingestão de Dados**: Download dos dados da CCEE (disponíveis na plataforma kaggle) e armazenamento na camada Bronze.\n",
    "2. **Processamento e Limpeza de Dados**: Transformação e organização dos dados na camada Silver.\n",
    "3. **Análise e Geração de Insights**: Criação de agregações e dashboards na camada Gold.\n",
    "4. **Visualização e Apresentação de Resultados**: Criação de gráficos e relatórios para comunicar os insights."
   ]
  },
  {
   "cell_type": "markdown",
   "metadata": {
    "application/vnd.databricks.v1+cell": {
     "cellMetadata": {
      "byteLimit": 2048000,
      "rowLimit": 10000
     },
     "inputWidgets": {},
     "nuid": "5f6c7e84-78fa-4ca2-93d4-44f5c9b5d426",
     "showTitle": false,
     "tableResultSettingsMap": {},
     "title": ""
    }
   },
   "source": [
    "## Estrutura das Tabelas para Pipeline de Dados de Energia\n",
    "\n",
    "## Camada Bronze\n",
    "\n",
    "### Tabela: `bronze_cmee_br`\n",
    "| Coluna             | Tipo       | Descrição                              | Restrições          |\n",
    "|---------------------|------------|----------------------------------------|---------------------|\n",
    "| `Data`             | DATE       | Data da medição (YYYY-MM-DD)           | NOT NULL            |\n",
    "| `Classe`           | STRING     | Tipo de consumidor                     | NOT NULL            |\n",
    "| `Ramo_de_atividade`| STRING     | Ramo de atividade do consumidor        |                     |\n",
    "| `Submercado`       | STRING     | Região geográfica                      | NOT NULL            |\n",
    "| `Estado`           | STRING     | Sigla do estado (UF)                   | NOT NULL            |\n",
    "| `Consumo_MWm`      | DOUBLE     | Consumo em megawatt-hora               | NOT NULL, >= 0      |\n",
    "| `ingestion_date`   | TIMESTAMP  | Data/hora da ingestão                  | NOT NULL            |\n",
    "| `file_name`        | STRING     | Nome do arquivo de origem              | NOT NULL            |\n",
    "\n",
    "**Localização Delta**: `/mnt/data/bronze/cmee_br`\n",
    "\n",
    "## Camada Silver\n",
    "\n",
    "### Dimensões\n",
    "\n",
    "#### Tabela: `silver_dim_data`\n",
    "| Coluna         | Tipo  | Descrição                | Restrições   |\n",
    "|----------------|-------|--------------------------|--------------|\n",
    "| `data_completa`| DATE  | Data completa            | NOT NULL     |\n",
    "| `ano`          | INT   | Ano (2010-2023)          | NOT NULL     |\n",
    "| `mes`          | INT   | Mês (1-12)               | NOT NULL     |\n",
    "| `dia`          | INT   | Dia (1-31)               | NOT NULL     |\n",
    "| `trimestre`    | INT   | Trimestre (1-4)          | NOT NULL     |\n",
    "| `semana_ano`   | INT   | Semana do ano (1-53)     | NOT NULL     |\n",
    "\n",
    "#### Tabela: `silver_dim_classe`\n",
    "| Coluna        | Tipo  | Descrição                | Restrições   |\n",
    "|---------------|-------|--------------------------|--------------|\n",
    "| `id_classe`   | INT   | Chave primária           | NOT NULL     |\n",
    "| `nome_classe` | STRING| Nome da classe           | NOT NULL     |\n",
    "\n",
    "#### Tabela: `silver_dim_ramo`\n",
    "| Coluna      | Tipo  | Descrição                | Restrições   |\n",
    "|-------------|-------|--------------------------|--------------|\n",
    "| `id_ramo`   | INT   | Chave primária           | NOT NULL     |\n",
    "| `nome_ramo` | STRING| Nome do ramo             | NOT NULL     |\n",
    "\n",
    "### Fato\n",
    "\n",
    "#### Tabela: `silver_fato_consumo`\n",
    "| Coluna           | Tipo      | Descrição                | Restrições               |\n",
    "|------------------|-----------|--------------------------|--------------------------|\n",
    "| `data_completa`  | DATE      | Data da medição          | FK, NOT NULL             |\n",
    "| `id_classe`      | INT       | ID da classe             | FK                       |\n",
    "| `id_ramo`        | INT       | ID do ramo               | FK                       |\n",
    "| `id_submercado`  | INT       | ID do submercado         | FK                       |\n",
    "| `id_estado`      | INT       | ID do estado             | FK                       |\n",
    "| `consumo_mwm`    | DOUBLE    | Consumo em MWm           | NOT NULL, >= 0           |\n",
    "| `ingestion_date` | TIMESTAMP | Data/hora da ingestão    | NOT NULL                 |\n",
    "\n",
    "## Camada Gold\n",
    "\n",
    "### Tabela: `gold_consumo_por_estado`\n",
    "| Coluna               | Tipo    | Descrição                          | Restrições   |\n",
    "|----------------------|---------|------------------------------------|--------------|\n",
    "| `sigla_estado`       | STRING  | Sigla do estado (UF)               | NOT NULL     |\n",
    "| `total_consumo_mwm`  | DOUBLE  | Consumo total por estado           | NOT NULL     |\n",
    "| `media_consumo_mwm`  | DOUBLE  | Média de consumo por estado        | NOT NULL     |\n",
    "\n",
    "### Tabela: `gold_tendencia_mensal`\n",
    "| Coluna               | Tipo    | Descrição                          | Restrições   |\n",
    "|----------------------|---------|------------------------------------|--------------|\n",
    "| `ano`                | INT     | Ano da medição                     | NOT NULL     |\n",
    "| `mes`                | INT     | Mês da medição                     | NOT NULL     |\n",
    "| `total_consumo_mwm`  | DOUBLE  | Consumo total no mês               | NOT NULL     |\n",
    "| `media_consumo_mwm`  | DOUBLE  | Média de consumo no mês            | NOT NULL     |\n",
    "\n",
    "### Tabela: `gold_top_ramos`\n",
    "| Coluna               | Tipo    | Descrição                          | Restrições   |\n",
    "|----------------------|---------|------------------------------------|--------------|\n",
    "| `nome_ramo`          | STRING  | Nome do ramo de atividade          | NOT NULL     |\n",
    "| `total_consumo_mwm`  | DOUBLE  | Consumo total por ramo             | NOT NULL     |\n",
    "\n",
    "### Tabela: `gold_tendencia_mensal_avancada`\n",
    "| Coluna               | Tipo    | Descrição                          | Restrições   |\n",
    "|----------------------|---------|------------------------------------|--------------|\n",
    "| `ano`                | INT     | Ano da medição                     | NOT NULL     |\n",
    "| `mes`                | INT     | Mês da medição                     | NOT NULL     |\n",
    "| `nome_submercado`    | STRING  | Nome do submercado                 | NOT NULL     |\n",
    "| `consumo_total`      | DOUBLE  | Consumo total no mês               | >= 0         |\n",
    "| `consumo_anterior`   | DOUBLE  | Consumo no mês anterior            | >= 0         |"
   ]
  },
  {
   "cell_type": "markdown",
   "metadata": {
    "application/vnd.databricks.v1+cell": {
     "cellMetadata": {},
     "inputWidgets": {},
     "nuid": "a90e6654-9f6a-4476-9ea6-eaef11bada12",
     "showTitle": false,
     "tableResultSettingsMap": {},
     "title": ""
    }
   },
   "source": []
  },
  {
   "cell_type": "markdown",
   "metadata": {
    "application/vnd.databricks.v1+cell": {
     "cellMetadata": {
      "byteLimit": 2048000,
      "rowLimit": 10000
     },
     "inputWidgets": {},
     "nuid": "11a4a765-a9ee-4bc3-a5f2-63db3dc05c81",
     "showTitle": false,
     "tableResultSettingsMap": {},
     "title": ""
    }
   },
   "source": [
    "## 1 - IMPORTAÇÃO DE BIBLIOTECAS"
   ]
  },
  {
   "cell_type": "code",
   "execution_count": 0,
   "metadata": {
    "application/vnd.databricks.v1+cell": {
     "cellMetadata": {
      "byteLimit": 2048000,
      "rowLimit": 10000
     },
     "inputWidgets": {},
     "nuid": "432b6616-7d2f-4d3d-a453-cc595a73cd64",
     "showTitle": false,
     "tableResultSettingsMap": {},
     "title": ""
    }
   },
   "outputs": [],
   "source": [
    "# Importações necessárias\n",
    "from pyspark.sql import SparkSession\n",
    "from pyspark.sql.functions import *\n",
    "from pyspark.sql.types import *\n",
    "import urllib.request\n",
    "from pyspark.sql import functions as F\n",
    "from pyspark.sql.window import Window\n",
    "import logging\n",
    "from datetime import datetime\n",
    "import matplotlib.pyplot as plt\n",
    "import seaborn as sns"
   ]
  },
  {
   "cell_type": "markdown",
   "metadata": {
    "application/vnd.databricks.v1+cell": {
     "cellMetadata": {
      "byteLimit": 2048000,
      "rowLimit": 10000
     },
     "inputWidgets": {},
     "nuid": "a529d084-c0cc-452e-8a52-db41cd59e3ce",
     "showTitle": false,
     "tableResultSettingsMap": {},
     "title": ""
    }
   },
   "source": [
    "## 2 - Monitoramento de Pipeline de Dados\n",
    "\n",
    "O sistema de logging implementado proporciona uma camada essencial de observabilidade para o pipeline de dados, contribuindo para sua robustez, confiabilidade e manutenibilidade. A coleta e análise das informações registradas permitem uma gestão mais eficiente do fluxo de dados, otimizando o desempenho e minimizando o tempo de inatividade."
   ]
  },
  {
   "cell_type": "code",
   "execution_count": 0,
   "metadata": {
    "application/vnd.databricks.v1+cell": {
     "cellMetadata": {
      "byteLimit": 2048000,
      "rowLimit": 10000
     },
     "inputWidgets": {},
     "nuid": "a16d2e08-312f-4d0e-a1af-5fd8f812751b",
     "showTitle": false,
     "tableResultSettingsMap": {},
     "title": ""
    }
   },
   "outputs": [],
   "source": [
    "# Configurar logger\n",
    "logging.basicConfig(level=logging.INFO)\n",
    "logger = logging.getLogger(\"PipelineMonitor\")\n",
    "\n",
    "def log_pipeline_step(step_name, status, records_processed=None):\n",
    "    log_data = {\n",
    "        \"timestamp\": datetime.now().isoformat(),\n",
    "        \"pipeline\": \"CCEE_Energy_Analytics\",\n",
    "        \"step\": step_name,\n",
    "        \"status\": status,\n",
    "        \"records_processed\": records_processed\n",
    "    }\n",
    "    logger.info(str(log_data))"
   ]
  },
  {
   "cell_type": "markdown",
   "metadata": {
    "application/vnd.databricks.v1+cell": {
     "cellMetadata": {
      "byteLimit": 2048000,
      "rowLimit": 10000
     },
     "inputWidgets": {},
     "nuid": "fded4a73-0037-40db-bae1-d86047a07301",
     "showTitle": false,
     "tableResultSettingsMap": {},
     "title": ""
    }
   },
   "source": [
    "## 3 - Ingestão e Processamento de Dados com Spark (Camada Bronze)\n",
    "Este código realiza a ingestão, processamento e validação de dados utilizando o Apache Spark, seguindo o conceito de uma \"Camada Bronze\" em um Data Lake. A Camada Bronze geralmente armazena os dados brutos, como são recebidos, com o mínimo de transformações.\n",
    "\n",
    "#### Detalhes de Coleta\n",
    "\n",
    "**Fonte**: Dados públicos da CCEE (Câmara de Comercialização de Energia Elétrica)\n",
    "- Período: 2018-2020\n",
    "- Formato original: CSV\n",
    "- Método de obtenção: Download direto do Github (https://raw.githubusercontent.com/wilton-jose/MVP-Eng-Dados/refs/heads/main/CCEE_BR_Data.csv)\n",
    "\n",
    "**Armazenamento inicial**:\n",
    "- Bucket S3: s3://cmee-raw-data/consumo-energia\n",
    "- Formato: CSV original preservado"
   ]
  },
  {
   "cell_type": "markdown",
   "metadata": {
    "application/vnd.databricks.v1+cell": {
     "cellMetadata": {
      "byteLimit": 2048000,
      "rowLimit": 10000
     },
     "inputWidgets": {},
     "nuid": "78c0b625-c83e-4f3d-a65d-42c5d1f64b94",
     "showTitle": false,
     "tableResultSettingsMap": {},
     "title": ""
    }
   },
   "source": [
    "### 3.1. Download dos Dados\n",
    "\n",
    "Baixando os dados do repositório do GitHub indicado pela url e armazenando-os como 'CCEE_BR_Data.csv' dentro do diretório /tmp/ no seu sistema."
   ]
  },
  {
   "cell_type": "code",
   "execution_count": 0,
   "metadata": {
    "application/vnd.databricks.v1+cell": {
     "cellMetadata": {
      "byteLimit": 2048000,
      "rowLimit": 10000
     },
     "inputWidgets": {},
     "nuid": "6a6c5029-6cbe-472b-b084-a06e17f44b0e",
     "showTitle": false,
     "tableResultSettingsMap": {},
     "title": ""
    }
   },
   "outputs": [
    {
     "output_type": "stream",
     "name": "stderr",
     "output_type": "stream",
     "text": [
      "INFO:py4j.clientserver:Received command c on object id p0\n"
     ]
    },
    {
     "output_type": "stream",
     "name": "stdout",
     "output_type": "stream",
     "text": [
      "Out[4]: ('/tmp/CCEE_BR_Data.csv', <http.client.HTTPMessage at 0x78f73b5dfc40>)"
     ]
    }
   ],
   "source": [
    "# Download do arquivo CSV\n",
    "url = 'https://raw.githubusercontent.com/wilton-jose/MVP-Eng-Dados/refs/heads/main/CCEE_BR_Data.csv'\n",
    "temp_path = '/tmp/CCEE_BR_Data.csv'\n",
    "urllib.request.urlretrieve(url, temp_path)"
   ]
  },
  {
   "cell_type": "markdown",
   "metadata": {
    "application/vnd.databricks.v1+cell": {
     "cellMetadata": {
      "byteLimit": 2048000,
      "rowLimit": 10000
     },
     "inputWidgets": {},
     "nuid": "7d307a4b-d9c0-4b14-b45a-c74a97be9fe4",
     "showTitle": false,
     "tableResultSettingsMap": {},
     "title": ""
    }
   },
   "source": [
    "### 3.2. Configurando o Spark"
   ]
  },
  {
   "cell_type": "code",
   "execution_count": 0,
   "metadata": {
    "application/vnd.databricks.v1+cell": {
     "cellMetadata": {
      "byteLimit": 2048000,
      "rowLimit": 10000
     },
     "inputWidgets": {},
     "nuid": "a7b3454c-6d5b-45da-a752-65d30d772655",
     "showTitle": false,
     "tableResultSettingsMap": {},
     "title": ""
    }
   },
   "outputs": [
    {
     "output_type": "stream",
     "name": "stderr",
     "output_type": "stream",
     "text": [
      "INFO:py4j.clientserver:Received command c on object id p0\n"
     ]
    }
   ],
   "source": [
    "# Configuração do Spark com otimizações\n",
    "spark = SparkSession.builder \\\n",
    "    .appName(\"CCEE_BR_Data_Pipeline\") \\\n",
    "    .config(\"spark.sql.shuffle.partitions\", \"200\") \\\n",
    "    .config(\"spark.sql.files.maxPartitionBytes\", \"128MB\") \\\n",
    "    .config(\"spark.sql.parquet.compression.codec\", \"snappy\") \\\n",
    "    .config(\"spark.sql.adaptive.enabled\", \"true\") \\\n",
    "    .getOrCreate()"
   ]
  },
  {
   "cell_type": "markdown",
   "metadata": {
    "application/vnd.databricks.v1+cell": {
     "cellMetadata": {
      "byteLimit": 2048000,
      "rowLimit": 10000
     },
     "inputWidgets": {},
     "nuid": "ad1e99d5-fe9f-4fe3-8056-1a058bbc7371",
     "showTitle": false,
     "tableResultSettingsMap": {},
     "title": ""
    }
   },
   "source": [
    "### 3.3. Definindo o Esquema de dados:"
   ]
  },
  {
   "cell_type": "code",
   "execution_count": 0,
   "metadata": {
    "application/vnd.databricks.v1+cell": {
     "cellMetadata": {
      "byteLimit": 2048000,
      "rowLimit": 10000
     },
     "inputWidgets": {},
     "nuid": "d5c88023-85b1-48b7-9daf-166b129b6f76",
     "showTitle": false,
     "tableResultSettingsMap": {},
     "title": ""
    }
   },
   "outputs": [
    {
     "output_type": "stream",
     "name": "stderr",
     "output_type": "stream",
     "text": [
      "INFO:py4j.clientserver:Received command c on object id p0\n"
     ]
    }
   ],
   "source": [
    "# Definir esquema para validação\n",
    "schema_bronze = StructType([\n",
    "    StructField(\"Data\", DateType(), True),\n",
    "    StructField(\"Classe\", StringType(), True),\n",
    "    StructField(\"Ramo_de_atividade\", StringType(), True),\n",
    "    StructField(\"Submercado\", StringType(), True),\n",
    "    StructField(\"Estado\", StringType(), True),\n",
    "    StructField(\"Consumo_MWm\", DoubleType(), True)\n",
    "])\n"
   ]
  },
  {
   "cell_type": "markdown",
   "metadata": {
    "application/vnd.databricks.v1+cell": {
     "cellMetadata": {
      "byteLimit": 2048000,
      "rowLimit": 10000
     },
     "inputWidgets": {},
     "nuid": "ce7e3cce-86e6-4ba8-a6f1-41924b492799",
     "showTitle": false,
     "tableResultSettingsMap": {},
     "title": ""
    }
   },
   "source": [
    "### 3.4 - Carregando os Dados para o Delta Lake:"
   ]
  },
  {
   "cell_type": "code",
   "execution_count": 0,
   "metadata": {
    "application/vnd.databricks.v1+cell": {
     "cellMetadata": {
      "byteLimit": 2048000,
      "rowLimit": 10000
     },
     "inputWidgets": {},
     "nuid": "f0a15634-0a25-4d9f-818c-e9faa5e6d371",
     "showTitle": false,
     "tableResultSettingsMap": {},
     "title": ""
    }
   },
   "outputs": [
    {
     "output_type": "stream",
     "name": "stderr",
     "output_type": "stream",
     "text": [
      "INFO:py4j.clientserver:Received command c on object id p0\n"
     ]
    }
   ],
   "source": [
    "\n",
    "# Mover para DBFS e ler como Delta\n",
    "dbfs_bronze_path = \"/mnt/bronze/cmee/CCEE_BR_Data\"\n",
    "dbutils.fs.cp(f\"file:{temp_path}\", f\"dbfs:{dbfs_bronze_path}.csv\")\n",
    "\n",
    "# Ler CSV e salvar como Delta\n",
    "df_bronze = spark.read \\\n",
    "    .option(\"header\", \"true\") \\\n",
    "    .option(\"delimiter\", \",\") \\\n",
    "    .option(\"dateFormat\", \"dd/MM/yyyy\") \\\n",
    "    .schema(schema_bronze) \\\n",
    "    .csv(f\"dbfs:{dbfs_bronze_path}.csv\")\n",
    "\n",
    "# Adicionar metadados\n",
    "df_bronze = df_bronze \\\n",
    "    .withColumn(\"ingestion_date\", current_timestamp()) \\\n",
    "    .withColumn(\"file_name\", input_file_name())\n",
    "\n",
    "# Salvar como Delta Lake\n",
    "# Salva os dados no formato Delta Lake, sobrescrevendo qualquer dado existente no mesmo caminho.\n",
    "df_bronze.write.format(\"delta\") \\\n",
    "    .mode(\"overwrite\") \\\n",
    "    .save(dbfs_bronze_path)"
   ]
  },
  {
   "cell_type": "markdown",
   "metadata": {
    "application/vnd.databricks.v1+cell": {
     "cellMetadata": {
      "byteLimit": 2048000,
      "rowLimit": 10000
     },
     "inputWidgets": {},
     "nuid": "cfbba483-7215-418e-be32-4648db513b0d",
     "showTitle": false,
     "tableResultSettingsMap": {},
     "title": ""
    }
   },
   "source": [
    "### 3. 5. Criando uma Tabela SQL:\n",
    "\n",
    "Cria uma tabela SQL chamada bronze_cmee_br se ela não existir, utilizando o formato Delta Lake e apontando para o local onde os dados foram salvos no DBFS."
   ]
  },
  {
   "cell_type": "code",
   "execution_count": 0,
   "metadata": {
    "application/vnd.databricks.v1+cell": {
     "cellMetadata": {
      "byteLimit": 2048000,
      "rowLimit": 10000
     },
     "inputWidgets": {},
     "nuid": "8037ebd9-cf1b-4dce-95d0-6c97fdc94d77",
     "showTitle": false,
     "tableResultSettingsMap": {},
     "title": ""
    }
   },
   "outputs": [
    {
     "output_type": "stream",
     "name": "stderr",
     "output_type": "stream",
     "text": [
      "INFO:py4j.clientserver:Received command c on object id p0\n"
     ]
    },
    {
     "output_type": "stream",
     "name": "stdout",
     "output_type": "stream",
     "text": [
      "Out[8]: DataFrame[]"
     ]
    }
   ],
   "source": [
    "#Criar tabela SQL para consulta\n",
    "spark.sql(f\"\"\"\n",
    "CREATE TABLE IF NOT EXISTS bronze_cmee_br\n",
    "USING DELTA\n",
    "LOCATION '{dbfs_bronze_path}'\n",
    "\"\"\")"
   ]
  },
  {
   "cell_type": "markdown",
   "metadata": {
    "application/vnd.databricks.v1+cell": {
     "cellMetadata": {
      "byteLimit": 2048000,
      "rowLimit": 10000
     },
     "inputWidgets": {},
     "nuid": "b2561527-41b6-40e9-8f5f-024399441915",
     "showTitle": false,
     "tableResultSettingsMap": {},
     "title": ""
    }
   },
   "source": [
    "### 3.6. Validação da Qualidade dos Dados:\n",
    "\n",
    "Executa uma consulta SQL na tabela bronze_cmee_br e exibe os resultados no notebook. A consulta calcula métricas básicas de qualidade dos dados, como total de registros, quantidade de valores nulos em colunas importantes e datas mínima e máxima."
   ]
  },
  {
   "cell_type": "code",
   "execution_count": 0,
   "metadata": {
    "application/vnd.databricks.v1+cell": {
     "cellMetadata": {
      "byteLimit": 2048000,
      "rowLimit": 10000
     },
     "inputWidgets": {},
     "nuid": "570bab50-96ae-4b0a-b502-abb65d6102fc",
     "showTitle": false,
     "tableResultSettingsMap": {},
     "title": ""
    }
   },
   "outputs": [
    {
     "output_type": "stream",
     "name": "stderr",
     "output_type": "stream",
     "text": [
      "INFO:py4j.clientserver:Received command c on object id p0\n"
     ]
    },
    {
     "output_type": "display_data",
     "data": {
      "text/html": [
       "<style scoped>\n",
       "  .table-result-container {\n",
       "    max-height: 300px;\n",
       "    overflow: auto;\n",
       "  }\n",
       "  table, th, td {\n",
       "    border: 1px solid black;\n",
       "    border-collapse: collapse;\n",
       "  }\n",
       "  th, td {\n",
       "    padding: 5px;\n",
       "  }\n",
       "  th {\n",
       "    text-align: left;\n",
       "  }\n",
       "</style><div class='table-result-container'><table class='table-result'><thead style='background-color: white'><tr><th>total_registros</th><th>consumos_nulos</th><th>estados_nulos</th><th>data_minima</th><th>data_maxima</th></tr></thead><tbody><tr><td>331453</td><td>0</td><td>0</td><td>2018-07-01</td><td>2020-01-31</td></tr></tbody></table></div>"
      ]
     },
     "metadata": {
      "application/vnd.databricks.v1+output": {
       "addedWidgets": {},
       "aggData": [],
       "aggError": "",
       "aggOverflow": false,
       "aggSchema": [],
       "aggSeriesLimitReached": false,
       "aggType": "",
       "arguments": {},
       "columnCustomDisplayInfos": {},
       "data": [
        [
         331453,
         0,
         0,
         "2018-07-01",
         "2020-01-31"
        ]
       ],
       "datasetInfos": [],
       "dbfsResultPath": null,
       "isJsonSchema": true,
       "metadata": {},
       "overflow": false,
       "plotOptions": {
        "customPlotOptions": {},
        "displayType": "table",
        "pivotAggregation": null,
        "pivotColumns": null,
        "xColumns": null,
        "yColumns": null
       },
       "removedWidgets": [],
       "schema": [
        {
         "metadata": "{}",
         "name": "total_registros",
         "type": "\"long\""
        },
        {
         "metadata": "{}",
         "name": "consumos_nulos",
         "type": "\"long\""
        },
        {
         "metadata": "{}",
         "name": "estados_nulos",
         "type": "\"long\""
        },
        {
         "metadata": "{}",
         "name": "data_minima",
         "type": "\"date\""
        },
        {
         "metadata": "{}",
         "name": "data_maxima",
         "type": "\"date\""
        }
       ],
       "type": "table"
      }
     },
     "output_type": "display_data"
    },
    {
     "output_type": "stream",
     "name": "stdout",
     "output_type": "stream",
     "text": [
      "✅ Camada BRONZE criada com sucesso!\n"
     ]
    }
   ],
   "source": [
    "# Validação de qualidade\n",
    "display(spark.sql(\"\"\"\n",
    "SELECT \n",
    "    count(*) as total_registros,\n",
    "    count_if(Consumo_MWm IS NULL) as consumos_nulos,\n",
    "    count_if(Estado IS NULL) as estados_nulos,\n",
    "    min(Data) as data_minima,\n",
    "    max(Data) as data_maxima\n",
    "FROM bronze_cmee_br\n",
    "\"\"\"))\n",
    "\n",
    "# Análise de Qualidade Expandida\n",
    "def executar_testes_qualidade():\n",
    "    testes = {\n",
    "        'Completude': \"SUM(CASE WHEN Estado IS NULL THEN 1 ELSE 0 END) / COUNT(*) < 0.01\",\n",
    "        'Consistência Temporal': \"DATEDIFF(MAX(Data), MIN(Data)) = 4745\",  # 13 anos\n",
    "        'Normalidade': \"SKEWNESS(Consumo_MWm) BETWEEN -2 AND 2\"\n",
    "    }\n",
    "    \n",
    "    resultados = []\n",
    "    for nome, condicao in testes.items():\n",
    "        resultado = spark.sql(f\"SELECT {condicao} AS status FROM bronze_cmee_br\").first().status\n",
    "        resultados.append((nome, 'PASS' if resultado else 'FAIL'))\n",
    "    \n",
    "    display(spark.createDataFrame(resultados, [\"Teste\", \"Resultado\"]))\n",
    "print(\"✅ Camada BRONZE criada com sucesso!\")"
   ]
  },
  {
   "cell_type": "markdown",
   "metadata": {
    "application/vnd.databricks.v1+cell": {
     "cellMetadata": {
      "byteLimit": 2048000,
      "rowLimit": 10000
     },
     "inputWidgets": {},
     "nuid": "53435392-0811-4965-84f6-37771ec09ba0",
     "showTitle": false,
     "tableResultSettingsMap": {},
     "title": ""
    }
   },
   "source": [
    "## 4 - Data Lakehouse e Camada Silver\n",
    "\n",
    "Este código está criando uma \"Camada Silver\" em um processo de Data Warehouse. A Camada Silver é onde os dados da \"Camada Bronze\" (dados brutos) são limpos, transformados e organizados em um formato mais adequado para análise."
   ]
  },
  {
   "cell_type": "markdown",
   "metadata": {
    "application/vnd.databricks.v1+cell": {
     "cellMetadata": {
      "byteLimit": 2048000,
      "rowLimit": 10000
     },
     "inputWidgets": {},
     "nuid": "07575f65-097a-46ef-a6f8-370af68a794f",
     "showTitle": false,
     "tableResultSettingsMap": {},
     "title": ""
    }
   },
   "source": [
    "### 4.1. Leitura dos dados da Camada Bronze"
   ]
  },
  {
   "cell_type": "code",
   "execution_count": 0,
   "metadata": {
    "application/vnd.databricks.v1+cell": {
     "cellMetadata": {
      "byteLimit": 2048000,
      "rowLimit": 10000
     },
     "inputWidgets": {},
     "nuid": "019fb1e9-ff08-4a7e-a376-6c41cce94669",
     "showTitle": false,
     "tableResultSettingsMap": {},
     "title": ""
    }
   },
   "outputs": [],
   "source": [
    "# Ler dados da Bronze\n",
    "bronze_path = \"/mnt/bronze/cmee/CCEE_BR_Data\"\n",
    "df_bronze = spark.read.format(\"delta\").load(bronze_path)"
   ]
  },
  {
   "cell_type": "markdown",
   "metadata": {
    "application/vnd.databricks.v1+cell": {
     "cellMetadata": {
      "byteLimit": 2048000,
      "rowLimit": 10000
     },
     "inputWidgets": {},
     "nuid": "58d0a1bc-ebc3-4f3a-a468-e7bd804b7857",
     "showTitle": false,
     "tableResultSettingsMap": {},
     "title": ""
    }
   },
   "source": [
    "### 4.2. Criação das Dimensões\n",
    "\n",
    "Nesta etapa, cria-se dimensões, que são tabelas que contêm informações descritivas sobre os dados. As dimensões são importantes para análise e ajudam a categorizar e entender os dados da tabela fato."
   ]
  },
  {
   "cell_type": "code",
   "execution_count": 0,
   "metadata": {
    "application/vnd.databricks.v1+cell": {
     "cellMetadata": {
      "byteLimit": 2048000,
      "rowLimit": 10000
     },
     "inputWidgets": {},
     "nuid": "777d650b-9520-4a36-bec2-a55486549ae2",
     "showTitle": false,
     "tableResultSettingsMap": {},
     "title": ""
    }
   },
   "outputs": [],
   "source": [
    "# Criar dimensões\n",
    "\n",
    "# Dimensao data\n",
    "dim_data = df_bronze.select(\n",
    "    F.col(\"Data\").alias(\"data_completa\"),\n",
    "    F.year(\"Data\").alias(\"ano\"),\n",
    "    F.month(\"Data\").alias(\"mes\"),\n",
    "    F.dayofmonth(\"Data\").alias(\"dia\"),\n",
    "    F.quarter(\"Data\").alias(\"trimestre\"),\n",
    "    F.weekofyear(\"Data\").alias(\"semana_ano\")\n",
    ").distinct()\n",
    "\n",
    "# Dimensão Classe\n",
    "dim_classe = df_bronze.select(\n",
    "    F.col(\"Classe\").alias(\"nome_classe\")\n",
    ").distinct().withColumn(\"id_classe\", F.monotonically_increasing_id())\n",
    "\n",
    "#As dimensões Ramo de Atividade, Submercado e Estado são criadas de maneira semelhante, \n",
    "#selecionando a coluna relevante, renomeando-a, tranzendo o valor distinto e adicionando um #ID único:\n",
    "# Dimensão Ramo de Atividade\n",
    "dim_ramo = df_bronze.select(\n",
    "    F.col(\"Ramo_de_atividade\").alias(\"nome_ramo\")\n",
    ").distinct().withColumn(\"id_ramo\", F.monotonically_increasing_id())\n",
    "\n",
    "# Dimensão Submercado\n",
    "dim_submercado = df_bronze.select(\n",
    "    F.col(\"Submercado\").alias(\"nome_submercado\")\n",
    ").distinct().withColumn(\"id_submercado\", F.monotonically_increasing_id())\n",
    "\n",
    "# Dimensão Estado\n",
    "dim_estado = df_bronze.select(\n",
    "    F.col(\"Estado\").alias(\"sigla_estado\")\n",
    ").distinct().withColumn(\"id_estado\", F.monotonically_increasing_id())\n",
    "\n",
    "# 1. Criar window specification\n",
    "window_spec = Window.partitionBy(\"Submercado\").orderBy(\"Data\")"
   ]
  },
  {
   "cell_type": "markdown",
   "metadata": {
    "application/vnd.databricks.v1+cell": {
     "cellMetadata": {
      "byteLimit": 2048000,
      "rowLimit": 10000
     },
     "inputWidgets": {},
     "nuid": "87e8dad1-e9b1-4d11-aa02-3c8d14c7c0f9",
     "showTitle": false,
     "tableResultSettingsMap": {},
     "title": ""
    }
   },
   "source": [
    "### 4.3. Criação da Tabela Fato\n",
    "\n",
    "A tabela fato armazena os dados principais de interesse, como consumo de energia, e é conectada às dimensões através de chaves estrangeiras (IDs)."
   ]
  },
  {
   "cell_type": "code",
   "execution_count": 0,
   "metadata": {
    "application/vnd.databricks.v1+cell": {
     "cellMetadata": {
      "byteLimit": 2048000,
      "rowLimit": 10000
     },
     "inputWidgets": {},
     "nuid": "78bd26f2-d9ba-4e73-a3c6-45e584cbc18b",
     "showTitle": false,
     "tableResultSettingsMap": {},
     "title": ""
    }
   },
   "outputs": [
    {
     "output_type": "stream",
     "name": "stderr",
     "output_type": "stream",
     "text": [
      "INFO:py4j.clientserver:Received command c on object id p0\n"
     ]
    }
   ],
   "source": [
    "# Criar tabela fato\n",
    "fato_consumo = df_bronze.alias(\"b\") \\\n",
    "    .join(dim_data.alias(\"d\"), F.col(\"b.Data\") == F.col(\"d.data_completa\"), \"left\") \\\n",
    "    .join(dim_classe.alias(\"c\"), F.col(\"b.Classe\") == F.col(\"c.nome_classe\"), \"left\") \\\n",
    "    .join(dim_ramo.alias(\"r\"), F.col(\"b.Ramo_de_atividade\") == F.col(\"r.nome_ramo\"), \"left\") \\\n",
    "    .join(dim_submercado.alias(\"s\"), F.col(\"b.Submercado\") == F.col(\"s.nome_submercado\"), \"left\") \\\n",
    "    .join(dim_estado.alias(\"e\"), F.col(\"b.Estado\") == F.col(\"e.sigla_estado\"), \"left\") \\\n",
    "    .select(\n",
    "        F.col(\"d.data_completa\"),\n",
    "        F.col(\"c.id_classe\"),\n",
    "        F.col(\"r.id_ramo\"),\n",
    "        F.col(\"s.id_submercado\"),\n",
    "        F.col(\"e.id_estado\"),\n",
    "        F.col(\"b.Consumo_MWm\").alias(\"consumo_mwm\"),\n",
    "        F.col(\"b.ingestion_date\")\n",
    "    )\n"
   ]
  },
  {
   "cell_type": "markdown",
   "metadata": {
    "application/vnd.databricks.v1+cell": {
     "cellMetadata": {
      "byteLimit": 2048000,
      "rowLimit": 10000
     },
     "inputWidgets": {},
     "nuid": "0f0cbfe5-2468-4a6a-9827-8afbd351440e",
     "showTitle": false,
     "tableResultSettingsMap": {},
     "title": ""
    }
   },
   "source": [
    "### 4.4. Salvando as Dimensões e a Tabela Fato no Delta Lake\n",
    "\n",
    "Salva cada dimensão e a tabela fato no formato Delta Lake no caminho especificado. O modo \"overwrite\" significa que os dados existentes serão substituídos."
   ]
  },
  {
   "cell_type": "code",
   "execution_count": 0,
   "metadata": {
    "application/vnd.databricks.v1+cell": {
     "cellMetadata": {
      "byteLimit": 2048000,
      "rowLimit": 10000
     },
     "inputWidgets": {},
     "nuid": "2a3bd10a-9f9b-4ffc-876c-dc0ec523a73b",
     "showTitle": false,
     "tableResultSettingsMap": {},
     "title": ""
    }
   },
   "outputs": [
    {
     "output_type": "display_data",
     "data": {
      "text/plain": [
       "\u001B[0;31m---------------------------------------------------------------------------\u001B[0m\n",
       "\u001B[0;31mNameError\u001B[0m                                 Traceback (most recent call last)\n",
       "File \u001B[0;32m<command-2370593907897302>:5\u001B[0m\n",
       "\u001B[1;32m      2\u001B[0m silver_base_path \u001B[38;5;241m=\u001B[39m \u001B[38;5;124m\"\u001B[39m\u001B[38;5;124m/mnt/silver/cmee\u001B[39m\u001B[38;5;124m\"\u001B[39m\n",
       "\u001B[1;32m      4\u001B[0m \u001B[38;5;66;03m# Salvar dimensões\u001B[39;00m\n",
       "\u001B[0;32m----> 5\u001B[0m dim_data\u001B[38;5;241m.\u001B[39mwrite\u001B[38;5;241m.\u001B[39mformat(\u001B[38;5;124m\"\u001B[39m\u001B[38;5;124mdelta\u001B[39m\u001B[38;5;124m\"\u001B[39m)\u001B[38;5;241m.\u001B[39mmode(\u001B[38;5;124m\"\u001B[39m\u001B[38;5;124moverwrite\u001B[39m\u001B[38;5;124m\"\u001B[39m)\u001B[38;5;241m.\u001B[39msave(\u001B[38;5;124mf\u001B[39m\u001B[38;5;124m\"\u001B[39m\u001B[38;5;132;01m{\u001B[39;00msilver_base_path\u001B[38;5;132;01m}\u001B[39;00m\u001B[38;5;124m/dim_data\u001B[39m\u001B[38;5;124m\"\u001B[39m)\n",
       "\u001B[1;32m      6\u001B[0m dim_classe\u001B[38;5;241m.\u001B[39mwrite\u001B[38;5;241m.\u001B[39mformat(\u001B[38;5;124m\"\u001B[39m\u001B[38;5;124mdelta\u001B[39m\u001B[38;5;124m\"\u001B[39m)\u001B[38;5;241m.\u001B[39mmode(\u001B[38;5;124m\"\u001B[39m\u001B[38;5;124moverwrite\u001B[39m\u001B[38;5;124m\"\u001B[39m)\u001B[38;5;241m.\u001B[39msave(\u001B[38;5;124mf\u001B[39m\u001B[38;5;124m\"\u001B[39m\u001B[38;5;132;01m{\u001B[39;00msilver_base_path\u001B[38;5;132;01m}\u001B[39;00m\u001B[38;5;124m/dim_classe\u001B[39m\u001B[38;5;124m\"\u001B[39m)\n",
       "\u001B[1;32m      7\u001B[0m dim_ramo\u001B[38;5;241m.\u001B[39mwrite\u001B[38;5;241m.\u001B[39mformat(\u001B[38;5;124m\"\u001B[39m\u001B[38;5;124mdelta\u001B[39m\u001B[38;5;124m\"\u001B[39m)\u001B[38;5;241m.\u001B[39mmode(\u001B[38;5;124m\"\u001B[39m\u001B[38;5;124moverwrite\u001B[39m\u001B[38;5;124m\"\u001B[39m)\u001B[38;5;241m.\u001B[39msave(\u001B[38;5;124mf\u001B[39m\u001B[38;5;124m\"\u001B[39m\u001B[38;5;132;01m{\u001B[39;00msilver_base_path\u001B[38;5;132;01m}\u001B[39;00m\u001B[38;5;124m/dim_ramo\u001B[39m\u001B[38;5;124m\"\u001B[39m)\n",
       "\n",
       "\u001B[0;31mNameError\u001B[0m: name 'dim_data' is not defined"
      ]
     },
     "metadata": {
      "application/vnd.databricks.v1+output": {
       "arguments": {},
       "data": "\u001B[0;31m---------------------------------------------------------------------------\u001B[0m\n\u001B[0;31mNameError\u001B[0m                                 Traceback (most recent call last)\nFile \u001B[0;32m<command-2370593907897302>:5\u001B[0m\n\u001B[1;32m      2\u001B[0m silver_base_path \u001B[38;5;241m=\u001B[39m \u001B[38;5;124m\"\u001B[39m\u001B[38;5;124m/mnt/silver/cmee\u001B[39m\u001B[38;5;124m\"\u001B[39m\n\u001B[1;32m      4\u001B[0m \u001B[38;5;66;03m# Salvar dimensões\u001B[39;00m\n\u001B[0;32m----> 5\u001B[0m dim_data\u001B[38;5;241m.\u001B[39mwrite\u001B[38;5;241m.\u001B[39mformat(\u001B[38;5;124m\"\u001B[39m\u001B[38;5;124mdelta\u001B[39m\u001B[38;5;124m\"\u001B[39m)\u001B[38;5;241m.\u001B[39mmode(\u001B[38;5;124m\"\u001B[39m\u001B[38;5;124moverwrite\u001B[39m\u001B[38;5;124m\"\u001B[39m)\u001B[38;5;241m.\u001B[39msave(\u001B[38;5;124mf\u001B[39m\u001B[38;5;124m\"\u001B[39m\u001B[38;5;132;01m{\u001B[39;00msilver_base_path\u001B[38;5;132;01m}\u001B[39;00m\u001B[38;5;124m/dim_data\u001B[39m\u001B[38;5;124m\"\u001B[39m)\n\u001B[1;32m      6\u001B[0m dim_classe\u001B[38;5;241m.\u001B[39mwrite\u001B[38;5;241m.\u001B[39mformat(\u001B[38;5;124m\"\u001B[39m\u001B[38;5;124mdelta\u001B[39m\u001B[38;5;124m\"\u001B[39m)\u001B[38;5;241m.\u001B[39mmode(\u001B[38;5;124m\"\u001B[39m\u001B[38;5;124moverwrite\u001B[39m\u001B[38;5;124m\"\u001B[39m)\u001B[38;5;241m.\u001B[39msave(\u001B[38;5;124mf\u001B[39m\u001B[38;5;124m\"\u001B[39m\u001B[38;5;132;01m{\u001B[39;00msilver_base_path\u001B[38;5;132;01m}\u001B[39;00m\u001B[38;5;124m/dim_classe\u001B[39m\u001B[38;5;124m\"\u001B[39m)\n\u001B[1;32m      7\u001B[0m dim_ramo\u001B[38;5;241m.\u001B[39mwrite\u001B[38;5;241m.\u001B[39mformat(\u001B[38;5;124m\"\u001B[39m\u001B[38;5;124mdelta\u001B[39m\u001B[38;5;124m\"\u001B[39m)\u001B[38;5;241m.\u001B[39mmode(\u001B[38;5;124m\"\u001B[39m\u001B[38;5;124moverwrite\u001B[39m\u001B[38;5;124m\"\u001B[39m)\u001B[38;5;241m.\u001B[39msave(\u001B[38;5;124mf\u001B[39m\u001B[38;5;124m\"\u001B[39m\u001B[38;5;132;01m{\u001B[39;00msilver_base_path\u001B[38;5;132;01m}\u001B[39;00m\u001B[38;5;124m/dim_ramo\u001B[39m\u001B[38;5;124m\"\u001B[39m)\n\n\u001B[0;31mNameError\u001B[0m: name 'dim_data' is not defined",
       "errorSummary": "<span class='ansi-red-fg'>NameError</span>: name 'dim_data' is not defined",
       "errorTraceType": "ansi",
       "metadata": {},
       "type": "ipynbError"
      }
     },
     "output_type": "display_data"
    }
   ],
   "source": [
    "# Salvar dimensões e fato no Delta Lake\n",
    "silver_base_path = \"/mnt/silver/cmee\"\n",
    "\n",
    "# Salvar dimensões\n",
    "dim_data.write.format(\"delta\").mode(\"overwrite\").save(f\"{silver_base_path}/dim_data\")\n",
    "dim_classe.write.format(\"delta\").mode(\"overwrite\").save(f\"{silver_base_path}/dim_classe\")\n",
    "dim_ramo.write.format(\"delta\").mode(\"overwrite\").save(f\"{silver_base_path}/dim_ramo\")\n",
    "dim_submercado.write.format(\"delta\").mode(\"overwrite\").save(f\"{silver_base_path}/dim_submercado\")\n",
    "dim_estado.write.format(\"delta\").mode(\"overwrite\").save(f\"{silver_base_path}/dim_estado\")\n",
    "\n",
    "# Salvar fato\n",
    "fato_consumo.write.format(\"delta\").mode(\"overwrite\").save(f\"{silver_base_path}/fato_consumo\")"
   ]
  },
  {
   "cell_type": "markdown",
   "metadata": {
    "application/vnd.databricks.v1+cell": {
     "cellMetadata": {
      "byteLimit": 2048000,
      "rowLimit": 10000
     },
     "inputWidgets": {},
     "nuid": "360b08e7-96d1-4050-ae30-9886424a4779",
     "showTitle": false,
     "tableResultSettingsMap": {},
     "title": ""
    }
   },
   "source": [
    "### 4.5. Criação de Tabelas SQL\n",
    "\n",
    "As tabelas são criadas usando o formato Delta Lake e o local de armazenamento é definido como o caminho onde os dados foram salvos anteriormente."
   ]
  },
  {
   "cell_type": "code",
   "execution_count": 0,
   "metadata": {
    "application/vnd.databricks.v1+cell": {
     "cellMetadata": {
      "byteLimit": 2048000,
      "rowLimit": 10000
     },
     "inputWidgets": {},
     "nuid": "1e97a024-0d5c-4954-8bb9-6da103946733",
     "showTitle": false,
     "tableResultSettingsMap": {},
     "title": ""
    }
   },
   "outputs": [],
   "source": [
    "# Criar tabelas SQL\n",
    "for table in [\"dim_data\", \"dim_classe\", \"dim_ramo\", \"dim_submercado\", \"dim_estado\", \"fato_consumo\"]:\n",
    "    spark.sql(f\"\"\"\n",
    "    CREATE TABLE IF NOT EXISTS silver_{table}\n",
    "    USING DELTA\n",
    "    LOCATION '{silver_base_path}/{table}'\n",
    "    \"\"\")"
   ]
  },
  {
   "cell_type": "markdown",
   "metadata": {
    "application/vnd.databricks.v1+cell": {
     "cellMetadata": {
      "byteLimit": 2048000,
      "rowLimit": 10000
     },
     "inputWidgets": {},
     "nuid": "faadfdbf-f458-4724-b7fd-bf8e44bdd0de",
     "showTitle": false,
     "tableResultSettingsMap": {},
     "title": ""
    }
   },
   "source": [
    "## 5. Camada GOLD\n",
    "\n",
    "Este código foca na criação da Camada GOLD, utilizando dados da Camada Silver."
   ]
  },
  {
   "cell_type": "code",
   "execution_count": 0,
   "metadata": {
    "application/vnd.databricks.v1+cell": {
     "cellMetadata": {
      "byteLimit": 2048000,
      "rowLimit": 10000
     },
     "inputWidgets": {},
     "nuid": "08ba6ac6-35c0-4ef7-8348-e4ec54ee68e3",
     "showTitle": false,
     "tableResultSettingsMap": {},
     "title": ""
    }
   },
   "outputs": [
    {
     "output_type": "stream",
     "name": "stdout",
     "output_type": "stream",
     "text": [
      "+--------------+---------+-------+\n|col_name      |data_type|comment|\n+--------------+---------+-------+\n|data_completa |date     |null   |\n|id_classe     |bigint   |null   |\n|id_ramo       |bigint   |null   |\n|id_submercado |bigint   |null   |\n|id_estado     |bigint   |null   |\n|consumo_mwm   |double   |null   |\n|ingestion_date|timestamp|null   |\n+--------------+---------+-------+\n\n"
     ]
    }
   ],
   "source": [
    "spark.sql(\"DESCRIBE silver_fato_consumo\").show(truncate=False)"
   ]
  },
  {
   "cell_type": "markdown",
   "metadata": {
    "application/vnd.databricks.v1+cell": {
     "cellMetadata": {
      "byteLimit": 2048000,
      "rowLimit": 10000
     },
     "inputWidgets": {},
     "nuid": "6782cf82-b867-4f2c-945c-19d6aec47c94",
     "showTitle": false,
     "tableResultSettingsMap": {},
     "title": ""
    }
   },
   "source": [
    "### 5.1. Funções de Análise: Cálculos e Criação de Tabelas\n",
    "\n",
    "O código define três funções principais, cada uma responsável por um tipo de análise e criação de uma tabela na Camada GOLD:\n",
    "- calcular_consumo_por_estado();\n",
    "- calcular_tendencia_mensal();\n",
    "- calcular_top_ramos();\n",
    "- gold_tendencia_mensal_avancada().\n"
   ]
  },
  {
   "cell_type": "markdown",
   "metadata": {
    "application/vnd.databricks.v1+cell": {
     "cellMetadata": {
      "byteLimit": 2048000,
      "rowLimit": 10000
     },
     "inputWidgets": {},
     "nuid": "e9fc3bc8-7e73-4706-8e2b-6861d77f126f",
     "showTitle": false,
     "tableResultSettingsMap": {},
     "title": ""
    }
   },
   "source": [
    "### 5.2 Execução das Análises e Visualizações"
   ]
  },
  {
   "cell_type": "markdown",
   "metadata": {
    "application/vnd.databricks.v1+cell": {
     "cellMetadata": {},
     "inputWidgets": {},
     "nuid": "5a1cb436-893e-44ea-9c5c-026df2e9ed3d",
     "showTitle": false,
     "tableResultSettingsMap": {},
     "title": ""
    }
   },
   "source": [
    "As funções abaixo preparam dados agregados na Camada GOLD para análises de consumo de energia por estado, tendências mensais e identificação dos principais ramos consumidores. Elas facilitam a exploração de dados e a geração de insights para a tomada de decisões estratégicas no setor energético."
   ]
  },
  {
   "cell_type": "code",
   "execution_count": 0,
   "metadata": {
    "application/vnd.databricks.v1+cell": {
     "cellMetadata": {
      "byteLimit": 2048000,
      "rowLimit": 10000
     },
     "inputWidgets": {},
     "nuid": "c1e77b3a-940b-48f4-97ec-f7b76fd4115f",
     "showTitle": false,
     "tableResultSettingsMap": {},
     "title": ""
    }
   },
   "outputs": [],
   "source": [
    "\n",
    "# Definir funções de análise\n",
    "\n",
    "def calcular_consumo_por_estado():\n",
    "    df = spark.table(\"silver_fato_consumo\").alias(\"f\") \\\n",
    "        .join(spark.table(\"silver_dim_estado\").alias(\"e\"), \"id_estado\") \\\n",
    "        .groupBy(\"e.sigla_estado\") \\\n",
    "        .agg(\n",
    "            F.sum(\"f.consumo_mwm\").alias(\"total_consumo_mwm\"),\n",
    "            F.avg(\"f.consumo_mwm\").alias(\"media_consumo_mwm\")\n",
    "        )\n",
    "    \n",
    "    df.write.format(\"delta\") \\\n",
    "       .mode(\"overwrite\") \\\n",
    "       .save(\"/mnt/gold/cmee/consumo_por_estado\")\n",
    "    \n",
    "    spark.sql(\"\"\"\n",
    "    CREATE TABLE IF NOT EXISTS gold_consumo_por_estado\n",
    "    USING DELTA\n",
    "    LOCATION '/mnt/gold/cmee/consumo_por_estado'\n",
    "    \"\"\")\n",
    "\n",
    "def calcular_tendencia_mensal():\n",
    "    df = spark.table(\"silver_fato_consumo\").alias(\"f\") \\\n",
    "        .join(spark.table(\"silver_dim_data\").alias(\"d\"), \"data_completa\") \\\n",
    "        .groupBy(\"d.ano\", \"d.mes\") \\\n",
    "        .agg(\n",
    "            F.sum(\"f.consumo_mwm\").alias(\"total_consumo_mwm\"),\n",
    "            F.avg(\"f.consumo_mwm\").alias(\"media_consumo_mwm\")\n",
    "        ) \\\n",
    "        .orderBy(\"d.ano\", \"d.mes\")\n",
    "    \n",
    "    df.write.format(\"delta\") \\\n",
    "       .mode(\"overwrite\") \\\n",
    "       .save(\"/mnt/gold/cmee/tendencia_mensal\")\n",
    "    \n",
    "    spark.sql(\"\"\"\n",
    "    CREATE TABLE IF NOT EXISTS gold_tendencia_mensal\n",
    "    USING DELTA\n",
    "    LOCATION '/mnt/gold/cmee/tendencia_mensal'\n",
    "    \"\"\")\n",
    "\n",
    "def calcular_top_ramos():\n",
    "    df = spark.table(\"silver_fato_consumo\").alias(\"f\") \\\n",
    "        .join(spark.table(\"silver_dim_ramo\").alias(\"r\"), \"id_ramo\") \\\n",
    "        .groupBy(\"r.nome_ramo\") \\\n",
    "        .agg(F.sum(\"f.consumo_mwm\").alias(\"total_consumo_mwm\")) \\\n",
    "        .orderBy(F.desc(\"total_consumo_mwm\")) \\\n",
    "        .limit(10)\n",
    "    \n",
    "    df.write.format(\"delta\") \\\n",
    "       .mode(\"overwrite\") \\\n",
    "       .save(\"/mnt/gold/cmee/top_ramos\")\n",
    "    \n",
    "    spark.sql(\"\"\"\n",
    "    CREATE TABLE IF NOT EXISTS gold_top_ramos\n",
    "    USING DELTA\n",
    "    LOCATION '/mnt/gold/cmee/top_ramos'\n",
    "    \"\"\")\n",
    "\n",
    "def criar_gold_tendencia_mensal_avancada():\n",
    "    df = spark.sql(\"\"\"\n",
    "        SELECT \n",
    "            d.ano,\n",
    "            d.mes,\n",
    "            s.nome_submercado,\n",
    "            SUM(f.consumo_mwm) AS consumo_total,\n",
    "            LAG(SUM(f.consumo_mwm), 1) OVER (\n",
    "                PARTITION BY s.nome_submercado \n",
    "                ORDER BY d.ano, d.mes\n",
    "            ) AS consumo_anterior,\n",
    "            (\n",
    "                (SUM(f.consumo_mwm) - LAG(SUM(f.consumo_mwm), 1) OVER (\n",
    "                    PARTITION BY s.nome_submercado \n",
    "                    ORDER BY d.ano, d.mes\n",
    "                )) \n",
    "                / \n",
    "                LAG(SUM(f.consumo_mwm), 1) OVER (\n",
    "                    PARTITION BY s.nome_submercado \n",
    "                    ORDER BY d.ano, d.mes\n",
    "                ) \n",
    "                * 100\n",
    "            ) AS variacao_mensal\n",
    "        FROM silver_fato_consumo f\n",
    "        JOIN silver_dim_data d ON f.data_completa = d.data_completa\n",
    "        JOIN silver_dim_submercado s ON f.id_submercado = s.id_submercado\n",
    "        GROUP BY d.ano, d.mes, s.nome_submercado\n",
    "    \"\"\")\n",
    "    \n",
    "    df.write.format(\"delta\").mode(\"overwrite\").save(\"/mnt/gold/cmee/tendencia_mensal_avancada\")\n",
    "    spark.sql(\"\"\"\n",
    "        CREATE TABLE IF NOT EXISTS gold_tendencia_mensal_avancada\n",
    "        USING DELTA\n",
    "        LOCATION '/mnt/gold/cmee/tendencia_mensal_avancada'\n",
    "    \"\"\")\n"
   ]
  },
  {
   "cell_type": "code",
   "execution_count": 0,
   "metadata": {
    "application/vnd.databricks.v1+cell": {
     "cellMetadata": {
      "byteLimit": 2048000,
      "rowLimit": 10000
     },
     "inputWidgets": {},
     "nuid": "5005bc13-bb7b-4208-9724-f69d40a5b5d2",
     "showTitle": false,
     "tableResultSettingsMap": {},
     "title": ""
    }
   },
   "outputs": [
    {
     "output_type": "display_data",
     "data": {
      "text/plain": [
       "\u001B[0;31m---------------------------------------------------------------------------\u001B[0m\n",
       "\u001B[0;31mNameError\u001B[0m                                 Traceback (most recent call last)\n",
       "File \u001B[0;32m<command-1075048443212711>:3\u001B[0m\n",
       "\u001B[1;32m      1\u001B[0m \u001B[38;5;66;03m# 3. Executar análises\u001B[39;00m\n",
       "\u001B[1;32m      2\u001B[0m criar_gold_tendencia_mensal_avancada()\n",
       "\u001B[0;32m----> 3\u001B[0m calcular_consumo_por_estado()\n",
       "\u001B[1;32m      4\u001B[0m calcular_tendencia_mensal()\n",
       "\u001B[1;32m      5\u001B[0m calcular_top_ramos()\n",
       "\n",
       "File \u001B[0;32m<command-1075048443212710>:8\u001B[0m, in \u001B[0;36mcalcular_consumo_por_estado\u001B[0;34m()\u001B[0m\n",
       "\u001B[1;32m      3\u001B[0m \u001B[38;5;28;01mdef\u001B[39;00m \u001B[38;5;21mcalcular_consumo_por_estado\u001B[39m():\n",
       "\u001B[1;32m      4\u001B[0m     df \u001B[38;5;241m=\u001B[39m spark\u001B[38;5;241m.\u001B[39mtable(\u001B[38;5;124m\"\u001B[39m\u001B[38;5;124msilver_fato_consumo\u001B[39m\u001B[38;5;124m\"\u001B[39m)\u001B[38;5;241m.\u001B[39malias(\u001B[38;5;124m\"\u001B[39m\u001B[38;5;124mf\u001B[39m\u001B[38;5;124m\"\u001B[39m) \\\n",
       "\u001B[1;32m      5\u001B[0m         \u001B[38;5;241m.\u001B[39mjoin(spark\u001B[38;5;241m.\u001B[39mtable(\u001B[38;5;124m\"\u001B[39m\u001B[38;5;124msilver_dim_estado\u001B[39m\u001B[38;5;124m\"\u001B[39m)\u001B[38;5;241m.\u001B[39malias(\u001B[38;5;124m\"\u001B[39m\u001B[38;5;124me\u001B[39m\u001B[38;5;124m\"\u001B[39m), \u001B[38;5;124m\"\u001B[39m\u001B[38;5;124mid_estado\u001B[39m\u001B[38;5;124m\"\u001B[39m) \\\n",
       "\u001B[1;32m      6\u001B[0m         \u001B[38;5;241m.\u001B[39mgroupBy(\u001B[38;5;124m\"\u001B[39m\u001B[38;5;124me.sigla_estado\u001B[39m\u001B[38;5;124m\"\u001B[39m) \\\n",
       "\u001B[1;32m      7\u001B[0m         \u001B[38;5;241m.\u001B[39magg(\n",
       "\u001B[0;32m----> 8\u001B[0m             \u001B[43mF\u001B[49m\u001B[38;5;241m.\u001B[39msum(\u001B[38;5;124m\"\u001B[39m\u001B[38;5;124mf.consumo_mwm\u001B[39m\u001B[38;5;124m\"\u001B[39m)\u001B[38;5;241m.\u001B[39malias(\u001B[38;5;124m\"\u001B[39m\u001B[38;5;124mtotal_consumo_mwm\u001B[39m\u001B[38;5;124m\"\u001B[39m),\n",
       "\u001B[1;32m      9\u001B[0m             F\u001B[38;5;241m.\u001B[39mavg(\u001B[38;5;124m\"\u001B[39m\u001B[38;5;124mf.consumo_mwm\u001B[39m\u001B[38;5;124m\"\u001B[39m)\u001B[38;5;241m.\u001B[39malias(\u001B[38;5;124m\"\u001B[39m\u001B[38;5;124mmedia_consumo_mwm\u001B[39m\u001B[38;5;124m\"\u001B[39m)\n",
       "\u001B[1;32m     10\u001B[0m         )\n",
       "\u001B[1;32m     12\u001B[0m     df\u001B[38;5;241m.\u001B[39mwrite\u001B[38;5;241m.\u001B[39mformat(\u001B[38;5;124m\"\u001B[39m\u001B[38;5;124mdelta\u001B[39m\u001B[38;5;124m\"\u001B[39m) \\\n",
       "\u001B[1;32m     13\u001B[0m        \u001B[38;5;241m.\u001B[39mmode(\u001B[38;5;124m\"\u001B[39m\u001B[38;5;124moverwrite\u001B[39m\u001B[38;5;124m\"\u001B[39m) \\\n",
       "\u001B[1;32m     14\u001B[0m        \u001B[38;5;241m.\u001B[39msave(\u001B[38;5;124m\"\u001B[39m\u001B[38;5;124m/mnt/gold/cmee/consumo_por_estado\u001B[39m\u001B[38;5;124m\"\u001B[39m)\n",
       "\u001B[1;32m     16\u001B[0m     spark\u001B[38;5;241m.\u001B[39msql(\u001B[38;5;124m\"\"\"\u001B[39m\n",
       "\u001B[1;32m     17\u001B[0m \u001B[38;5;124m    CREATE TABLE IF NOT EXISTS gold_consumo_por_estado\u001B[39m\n",
       "\u001B[1;32m     18\u001B[0m \u001B[38;5;124m    USING DELTA\u001B[39m\n",
       "\u001B[1;32m     19\u001B[0m \u001B[38;5;124m    LOCATION \u001B[39m\u001B[38;5;124m'\u001B[39m\u001B[38;5;124m/mnt/gold/cmee/consumo_por_estado\u001B[39m\u001B[38;5;124m'\u001B[39m\n",
       "\u001B[1;32m     20\u001B[0m \u001B[38;5;124m    \u001B[39m\u001B[38;5;124m\"\"\"\u001B[39m)\n",
       "\n",
       "\u001B[0;31mNameError\u001B[0m: name 'F' is not defined"
      ]
     },
     "metadata": {
      "application/vnd.databricks.v1+output": {
       "arguments": {},
       "data": "\u001B[0;31m---------------------------------------------------------------------------\u001B[0m\n\u001B[0;31mNameError\u001B[0m                                 Traceback (most recent call last)\nFile \u001B[0;32m<command-1075048443212711>:3\u001B[0m\n\u001B[1;32m      1\u001B[0m \u001B[38;5;66;03m# 3. Executar análises\u001B[39;00m\n\u001B[1;32m      2\u001B[0m criar_gold_tendencia_mensal_avancada()\n\u001B[0;32m----> 3\u001B[0m calcular_consumo_por_estado()\n\u001B[1;32m      4\u001B[0m calcular_tendencia_mensal()\n\u001B[1;32m      5\u001B[0m calcular_top_ramos()\n\nFile \u001B[0;32m<command-1075048443212710>:8\u001B[0m, in \u001B[0;36mcalcular_consumo_por_estado\u001B[0;34m()\u001B[0m\n\u001B[1;32m      3\u001B[0m \u001B[38;5;28;01mdef\u001B[39;00m \u001B[38;5;21mcalcular_consumo_por_estado\u001B[39m():\n\u001B[1;32m      4\u001B[0m     df \u001B[38;5;241m=\u001B[39m spark\u001B[38;5;241m.\u001B[39mtable(\u001B[38;5;124m\"\u001B[39m\u001B[38;5;124msilver_fato_consumo\u001B[39m\u001B[38;5;124m\"\u001B[39m)\u001B[38;5;241m.\u001B[39malias(\u001B[38;5;124m\"\u001B[39m\u001B[38;5;124mf\u001B[39m\u001B[38;5;124m\"\u001B[39m) \\\n\u001B[1;32m      5\u001B[0m         \u001B[38;5;241m.\u001B[39mjoin(spark\u001B[38;5;241m.\u001B[39mtable(\u001B[38;5;124m\"\u001B[39m\u001B[38;5;124msilver_dim_estado\u001B[39m\u001B[38;5;124m\"\u001B[39m)\u001B[38;5;241m.\u001B[39malias(\u001B[38;5;124m\"\u001B[39m\u001B[38;5;124me\u001B[39m\u001B[38;5;124m\"\u001B[39m), \u001B[38;5;124m\"\u001B[39m\u001B[38;5;124mid_estado\u001B[39m\u001B[38;5;124m\"\u001B[39m) \\\n\u001B[1;32m      6\u001B[0m         \u001B[38;5;241m.\u001B[39mgroupBy(\u001B[38;5;124m\"\u001B[39m\u001B[38;5;124me.sigla_estado\u001B[39m\u001B[38;5;124m\"\u001B[39m) \\\n\u001B[1;32m      7\u001B[0m         \u001B[38;5;241m.\u001B[39magg(\n\u001B[0;32m----> 8\u001B[0m             \u001B[43mF\u001B[49m\u001B[38;5;241m.\u001B[39msum(\u001B[38;5;124m\"\u001B[39m\u001B[38;5;124mf.consumo_mwm\u001B[39m\u001B[38;5;124m\"\u001B[39m)\u001B[38;5;241m.\u001B[39malias(\u001B[38;5;124m\"\u001B[39m\u001B[38;5;124mtotal_consumo_mwm\u001B[39m\u001B[38;5;124m\"\u001B[39m),\n\u001B[1;32m      9\u001B[0m             F\u001B[38;5;241m.\u001B[39mavg(\u001B[38;5;124m\"\u001B[39m\u001B[38;5;124mf.consumo_mwm\u001B[39m\u001B[38;5;124m\"\u001B[39m)\u001B[38;5;241m.\u001B[39malias(\u001B[38;5;124m\"\u001B[39m\u001B[38;5;124mmedia_consumo_mwm\u001B[39m\u001B[38;5;124m\"\u001B[39m)\n\u001B[1;32m     10\u001B[0m         )\n\u001B[1;32m     12\u001B[0m     df\u001B[38;5;241m.\u001B[39mwrite\u001B[38;5;241m.\u001B[39mformat(\u001B[38;5;124m\"\u001B[39m\u001B[38;5;124mdelta\u001B[39m\u001B[38;5;124m\"\u001B[39m) \\\n\u001B[1;32m     13\u001B[0m        \u001B[38;5;241m.\u001B[39mmode(\u001B[38;5;124m\"\u001B[39m\u001B[38;5;124moverwrite\u001B[39m\u001B[38;5;124m\"\u001B[39m) \\\n\u001B[1;32m     14\u001B[0m        \u001B[38;5;241m.\u001B[39msave(\u001B[38;5;124m\"\u001B[39m\u001B[38;5;124m/mnt/gold/cmee/consumo_por_estado\u001B[39m\u001B[38;5;124m\"\u001B[39m)\n\u001B[1;32m     16\u001B[0m     spark\u001B[38;5;241m.\u001B[39msql(\u001B[38;5;124m\"\"\"\u001B[39m\n\u001B[1;32m     17\u001B[0m \u001B[38;5;124m    CREATE TABLE IF NOT EXISTS gold_consumo_por_estado\u001B[39m\n\u001B[1;32m     18\u001B[0m \u001B[38;5;124m    USING DELTA\u001B[39m\n\u001B[1;32m     19\u001B[0m \u001B[38;5;124m    LOCATION \u001B[39m\u001B[38;5;124m'\u001B[39m\u001B[38;5;124m/mnt/gold/cmee/consumo_por_estado\u001B[39m\u001B[38;5;124m'\u001B[39m\n\u001B[1;32m     20\u001B[0m \u001B[38;5;124m    \u001B[39m\u001B[38;5;124m\"\"\"\u001B[39m)\n\n\u001B[0;31mNameError\u001B[0m: name 'F' is not defined",
       "errorSummary": "<span class='ansi-red-fg'>NameError</span>: name 'F' is not defined",
       "errorTraceType": "ansi",
       "metadata": {},
       "type": "ipynbError"
      }
     },
     "output_type": "display_data"
    }
   ],
   "source": [
    "# 3. Executar análises\n",
    "criar_gold_tendencia_mensal_avancada()\n",
    "calcular_consumo_por_estado()\n",
    "calcular_tendencia_mensal()\n",
    "calcular_top_ramos()"
   ]
  },
  {
   "cell_type": "markdown",
   "metadata": {
    "application/vnd.databricks.v1+cell": {
     "cellMetadata": {},
     "inputWidgets": {},
     "nuid": "f4b06dd3-026c-4ded-8cd5-693d8a8b02d1",
     "showTitle": false,
     "tableResultSettingsMap": {},
     "title": ""
    }
   },
   "source": [
    "### 5.2.1. Análise do Consumo de Energia por Estado"
   ]
  },
  {
   "cell_type": "code",
   "execution_count": 0,
   "metadata": {
    "application/vnd.databricks.v1+cell": {
     "cellMetadata": {
      "byteLimit": 2048000,
      "rowLimit": 10000
     },
     "inputWidgets": {},
     "nuid": "f335a378-10ca-471b-91f0-50e2cca47f28",
     "showTitle": false,
     "tableResultSettingsMap": {},
     "title": ""
    }
   },
   "outputs": [
    {
     "output_type": "stream",
     "name": "stderr",
     "output_type": "stream",
     "text": [
      "INFO:py4j.clientserver:Received command c on object id p0\n"
     ]
    },
    {
     "output_type": "display_data",
     "data": {
      "text/html": [
       "<style scoped>\n",
       "  .table-result-container {\n",
       "    max-height: 300px;\n",
       "    overflow: auto;\n",
       "  }\n",
       "  table, th, td {\n",
       "    border: 1px solid black;\n",
       "    border-collapse: collapse;\n",
       "  }\n",
       "  th, td {\n",
       "    padding: 5px;\n",
       "  }\n",
       "  th {\n",
       "    text-align: left;\n",
       "  }\n",
       "</style><div class='table-result-container'><table class='table-result'><thead style='background-color: white'><tr><th>sigla_estado</th><th>total_consumo_mwm</th><th>media_consumo_mwm</th></tr></thead><tbody><tr><td>SP</td><td>9689628.759999996</td><td>397.99674525589404</td></tr><tr><td>MG</td><td>4126737.629999999</td><td>202.53927018404903</td></tr><tr><td>RJ</td><td>3386305.0799999963</td><td>157.7887833744931</td></tr><tr><td>PR</td><td>2261040.759999999</td><td>126.78970223742493</td></tr><tr><td>RS</td><td>2238474.250000001</td><td>114.30701373640407</td></tr><tr><td>BA </td><td>1994529.8199999994</td><td>114.2080748969308</td></tr><tr><td>SC</td><td>1831829.3800000008</td><td>103.44642986220921</td></tr><tr><td>PA</td><td>1383479.5799999998</td><td>99.20972248117604</td></tr><tr><td>GO</td><td>1204699.4799999995</td><td>79.00704879328433</td></tr><tr><td>PE </td><td>1142481.9599999995</td><td>76.90373990306944</td></tr><tr><td>CE</td><td>948641.0700000001</td><td>75.0269748497311</td></tr><tr><td>ES</td><td>836307.3999999999</td><td>45.16674227694966</td></tr><tr><td>MT</td><td>650282.5099999991</td><td>43.14220858488682</td></tr><tr><td>AM</td><td>612600.53</td><td>53.17712934027778</td></tr><tr><td>MA</td><td>584099.1699999999</td><td>48.440800298556965</td></tr><tr><td>DF </td><td>482817.98000000033</td><td>60.54903185352399</td></tr><tr><td>RN</td><td>425811.5599999999</td><td>49.295156286177345</td></tr><tr><td>PB</td><td>419231.7499999998</td><td>35.2858976517128</td></tr><tr><td>MS</td><td>409889.4899999997</td><td>31.296441169733505</td></tr><tr><td>AL </td><td>327812.54999999993</td><td>46.00877894736841</td></tr><tr><td>PI</td><td>322618.68</td><td>66.0427185261003</td></tr><tr><td>SE</td><td>274820.4999999999</td><td>30.32334767736951</td></tr><tr><td>RO</td><td>261804.58000000005</td><td>41.32016729797981</td></tr><tr><td>TO</td><td>181498.74999999985</td><td>28.78191405011098</td></tr><tr><td>AP</td><td>124840.62</td><td>195.6749529780564</td></tr><tr><td>AC</td><td>72139.48</td><td>25.048430555555555</td></tr></tbody></table></div>"
      ]
     },
     "metadata": {
      "application/vnd.databricks.v1+output": {
       "addedWidgets": {},
       "aggData": [],
       "aggError": "",
       "aggOverflow": false,
       "aggSchema": [],
       "aggSeriesLimitReached": false,
       "aggType": "",
       "arguments": {},
       "columnCustomDisplayInfos": {},
       "data": [
        [
         "SP",
         9689628.759999996,
         397.99674525589404
        ],
        [
         "MG",
         4126737.629999999,
         202.53927018404903
        ],
        [
         "RJ",
         3386305.0799999963,
         157.7887833744931
        ],
        [
         "PR",
         2261040.759999999,
         126.78970223742493
        ],
        [
         "RS",
         2238474.250000001,
         114.30701373640407
        ],
        [
         "BA ",
         1994529.8199999994,
         114.2080748969308
        ],
        [
         "SC",
         1831829.3800000008,
         103.44642986220921
        ],
        [
         "PA",
         1383479.5799999998,
         99.20972248117604
        ],
        [
         "GO",
         1204699.4799999995,
         79.00704879328433
        ],
        [
         "PE ",
         1142481.9599999995,
         76.90373990306944
        ],
        [
         "CE",
         948641.0700000001,
         75.0269748497311
        ],
        [
         "ES",
         836307.3999999999,
         45.16674227694966
        ],
        [
         "MT",
         650282.5099999991,
         43.14220858488682
        ],
        [
         "AM",
         612600.53,
         53.17712934027778
        ],
        [
         "MA",
         584099.1699999999,
         48.440800298556965
        ],
        [
         "DF ",
         482817.98000000033,
         60.54903185352399
        ],
        [
         "RN",
         425811.5599999999,
         49.295156286177345
        ],
        [
         "PB",
         419231.7499999998,
         35.2858976517128
        ],
        [
         "MS",
         409889.4899999997,
         31.296441169733505
        ],
        [
         "AL ",
         327812.54999999993,
         46.00877894736841
        ],
        [
         "PI",
         322618.68,
         66.0427185261003
        ],
        [
         "SE",
         274820.4999999999,
         30.32334767736951
        ],
        [
         "RO",
         261804.58000000005,
         41.32016729797981
        ],
        [
         "TO",
         181498.74999999985,
         28.78191405011098
        ],
        [
         "AP",
         124840.62,
         195.6749529780564
        ],
        [
         "AC",
         72139.48,
         25.048430555555555
        ]
       ],
       "datasetInfos": [],
       "dbfsResultPath": null,
       "isJsonSchema": true,
       "metadata": {},
       "overflow": false,
       "plotOptions": {
        "customPlotOptions": {},
        "displayType": "table",
        "pivotAggregation": null,
        "pivotColumns": null,
        "xColumns": null,
        "yColumns": null
       },
       "removedWidgets": [],
       "schema": [
        {
         "metadata": "{}",
         "name": "sigla_estado",
         "type": "\"string\""
        },
        {
         "metadata": "{}",
         "name": "total_consumo_mwm",
         "type": "\"double\""
        },
        {
         "metadata": "{}",
         "name": "media_consumo_mwm",
         "type": "\"double\""
        }
       ],
       "type": "table"
      }
     },
     "output_type": "display_data"
    }
   ],
   "source": [
    "display(spark.sql(\"SELECT * FROM gold_consumo_por_estado ORDER BY total_consumo_mwm DESC\"))"
   ]
  },
  {
   "cell_type": "markdown",
   "metadata": {
    "application/vnd.databricks.v1+cell": {
     "cellMetadata": {},
     "inputWidgets": {},
     "nuid": "5fc76a72-0cde-4eb7-bd81-f9a41a5b177a",
     "showTitle": false,
     "tableResultSettingsMap": {},
     "title": ""
    }
   },
   "source": [
    "\n",
    "**Principais Destaques:**\n",
    "\n",
    "1. **Maior Consumo Total**:\n",
    "   - **São Paulo (SP)** lidera com **9,689,628.76 MWm**, representando o maior consumo entre todos os estados.\n",
    "   - Seguido por **Minas Gerais (MG)** com **4,126,737.63 MWm** e **Rio de Janeiro (RJ)** com **3,386,305.08 MWm**.\n",
    "\n",
    "2. **Maior Média de Consumo**:\n",
    "   - **Amapá (AP)** possui a maior média de consumo por medição (**195.67 MWm**), indicando um consumo concentrado em poucos registros ou alta demanda pontual.\n",
    "   - **São Paulo (SP)** também se destaca na média (**397.99 MWm**), refletindo um consumo consistentemente alto.\n",
    "\n",
    "3. **Estados com Menor Consumo**:\n",
    "   - **Acre (AC)** tem o menor consumo total (**72,139.48 MWm**) e a menor média (**25.05 MWm**), indicando baixa demanda energética no período analisado.\n",
    "\n",
    "## Insights:\n",
    "- **Regiões Desenvolvidas**: Estados como SP, MG e RJ, que são economicamente desenvolvidos, apresentam os maiores consumos totais, refletindo sua atividade industrial e populacional.\n",
    "- **Potencial de Investimento**: Estados como AP e PI, com médias de consumo elevadas em relação ao total, podem indicar oportunidades para otimização da distribuição ou expansão da infraestrutura energética.\n",
    "- **Eficiência Energética**: Estados com baixo consumo médio (ex: AC, TO) podem ser estudados para identificar boas práticas ou necessidades específicas de infraestrutura."
   ]
  },
  {
   "cell_type": "markdown",
   "metadata": {
    "application/vnd.databricks.v1+cell": {
     "cellMetadata": {},
     "inputWidgets": {},
     "nuid": "e5fc7fc1-30a1-43d3-8fc7-a234dc9ea158",
     "showTitle": false,
     "tableResultSettingsMap": {},
     "title": ""
    }
   },
   "source": [
    "### 5.2.2. Análise de Tendência Mensal de Consumo de Energia (2018-2020)"
   ]
  },
  {
   "cell_type": "code",
   "execution_count": 0,
   "metadata": {
    "application/vnd.databricks.v1+cell": {
     "cellMetadata": {
      "byteLimit": 2048000,
      "rowLimit": 10000
     },
     "inputWidgets": {},
     "nuid": "7e3a6aac-eeb1-4853-913d-1e8a0573c1e2",
     "showTitle": false,
     "tableResultSettingsMap": {},
     "title": ""
    }
   },
   "outputs": [
    {
     "output_type": "stream",
     "name": "stderr",
     "output_type": "stream",
     "text": [
      "INFO:py4j.clientserver:Received command c on object id p0\n"
     ]
    },
    {
     "output_type": "display_data",
     "data": {
      "text/html": [
       "<style scoped>\n",
       "  .table-result-container {\n",
       "    max-height: 300px;\n",
       "    overflow: auto;\n",
       "  }\n",
       "  table, th, td {\n",
       "    border: 1px solid black;\n",
       "    border-collapse: collapse;\n",
       "  }\n",
       "  th, td {\n",
       "    padding: 5px;\n",
       "  }\n",
       "  th {\n",
       "    text-align: left;\n",
       "  }\n",
       "</style><div class='table-result-container'><table class='table-result'><thead style='background-color: white'><tr><th>ano</th><th>mes</th><th>total_consumo_mwm</th><th>media_consumo_mwm</th></tr></thead><tbody><tr><td>2018</td><td>7</td><td>1845518.9699999944</td><td>108.04513611615212</td></tr><tr><td>2018</td><td>8</td><td>1869966.130000006</td><td>108.68736588201139</td></tr><tr><td>2018</td><td>9</td><td>1833254.6200000006</td><td>109.90735131894488</td></tr><tr><td>2018</td><td>10</td><td>1955941.8800000018</td><td>112.66946313364065</td></tr><tr><td>2018</td><td>11</td><td>1895064.0100000172</td><td>112.40000059312084</td></tr><tr><td>2018</td><td>12</td><td>1946248.6200000176</td><td>111.31598146877245</td></tr><tr><td>2019</td><td>1</td><td>2103217.380000019</td><td>119.86876667046728</td></tr><tr><td>2019</td><td>2</td><td>1863363.540000008</td><td>117.1632004527168</td></tr><tr><td>2019</td><td>3</td><td>1981410.6500000102</td><td>112.13416242218507</td></tr><tr><td>2019</td><td>4</td><td>1907918.9700000037</td><td>111.37880735551686</td></tr><tr><td>2019</td><td>5</td><td>1922421.1700000023</td><td>108.03760649657201</td></tr><tr><td>2019</td><td>6</td><td>1550413.8100000059</td><td>103.16833976577095</td></tr><tr><td>2019</td><td>7</td><td>1836807.830000009</td><td>101.80732901008807</td></tr><tr><td>2019</td><td>8</td><td>1862045.1100000197</td><td>102.32703797329339</td></tr><tr><td>2019</td><td>9</td><td>1878957.3200000094</td><td>105.97616018048558</td></tr><tr><td>2019</td><td>10</td><td>2016670.7699999905</td><td>109.70302834140186</td></tr><tr><td>2019</td><td>11</td><td>1942113.1400000115</td><td>108.6193031319917</td></tr><tr><td>2019</td><td>12</td><td>1957044.1000000045</td><td>104.8678651805811</td></tr><tr><td>2020</td><td>1</td><td>2026045.3000000129</td><td>107.67100494234006</td></tr></tbody></table></div>"
      ]
     },
     "metadata": {
      "application/vnd.databricks.v1+output": {
       "addedWidgets": {},
       "aggData": [],
       "aggError": "",
       "aggOverflow": false,
       "aggSchema": [],
       "aggSeriesLimitReached": false,
       "aggType": "",
       "arguments": {},
       "columnCustomDisplayInfos": {},
       "data": [
        [
         2018,
         7,
         1845518.9699999944,
         108.04513611615212
        ],
        [
         2018,
         8,
         1869966.130000006,
         108.68736588201139
        ],
        [
         2018,
         9,
         1833254.6200000006,
         109.90735131894488
        ],
        [
         2018,
         10,
         1955941.8800000018,
         112.66946313364065
        ],
        [
         2018,
         11,
         1895064.0100000172,
         112.40000059312084
        ],
        [
         2018,
         12,
         1946248.6200000176,
         111.31598146877245
        ],
        [
         2019,
         1,
         2103217.380000019,
         119.86876667046728
        ],
        [
         2019,
         2,
         1863363.540000008,
         117.1632004527168
        ],
        [
         2019,
         3,
         1981410.6500000102,
         112.13416242218507
        ],
        [
         2019,
         4,
         1907918.9700000037,
         111.37880735551686
        ],
        [
         2019,
         5,
         1922421.1700000023,
         108.03760649657201
        ],
        [
         2019,
         6,
         1550413.8100000059,
         103.16833976577095
        ],
        [
         2019,
         7,
         1836807.830000009,
         101.80732901008807
        ],
        [
         2019,
         8,
         1862045.1100000197,
         102.32703797329339
        ],
        [
         2019,
         9,
         1878957.3200000094,
         105.97616018048558
        ],
        [
         2019,
         10,
         2016670.7699999905,
         109.70302834140186
        ],
        [
         2019,
         11,
         1942113.1400000115,
         108.6193031319917
        ],
        [
         2019,
         12,
         1957044.1000000045,
         104.8678651805811
        ],
        [
         2020,
         1,
         2026045.3000000129,
         107.67100494234006
        ]
       ],
       "datasetInfos": [],
       "dbfsResultPath": null,
       "isJsonSchema": true,
       "metadata": {},
       "overflow": false,
       "plotOptions": {
        "customPlotOptions": {},
        "displayType": "table",
        "pivotAggregation": null,
        "pivotColumns": null,
        "xColumns": null,
        "yColumns": null
       },
       "removedWidgets": [],
       "schema": [
        {
         "metadata": "{}",
         "name": "ano",
         "type": "\"integer\""
        },
        {
         "metadata": "{}",
         "name": "mes",
         "type": "\"integer\""
        },
        {
         "metadata": "{}",
         "name": "total_consumo_mwm",
         "type": "\"double\""
        },
        {
         "metadata": "{}",
         "name": "media_consumo_mwm",
         "type": "\"double\""
        }
       ],
       "type": "table"
      }
     },
     "output_type": "display_data"
    }
   ],
   "source": [
    "display(spark.sql(\"SELECT * FROM gold_tendencia_mensal\"))"
   ]
  },
  {
   "cell_type": "markdown",
   "metadata": {
    "application/vnd.databricks.v1+cell": {
     "cellMetadata": {},
     "inputWidgets": {},
     "nuid": "5decd010-008c-400f-8b74-bb0236885512",
     "showTitle": false,
     "tableResultSettingsMap": {},
     "title": ""
    }
   },
   "source": [
    "**Principais Destaques:**\n",
    "\n",
    "1. **Sazonalidade**:\n",
    "   - **Picos em Janeiro**: Todos os anos analisados (2018-2020) mostram um aumento significativo no consumo no primeiro mês do ano (ex: 2,103,217.38 MWm em jan/2019).\n",
    "   - **Queda em Junho**: O mês de junho apresenta os menores consumos (ex: 1,550,413.81 MWm em jun/2019), possivelmente relacionado a temperaturas mais amenas e redução de atividades industriais.\n",
    "\n",
    "2. **Tendência de Crescimento**:\n",
    "   - O consumo em **janeiro de 2020 (2,026,045.30 MWm)** foi **3.6% maior** que em janeiro de 2019, indicando um crescimento anual consistente.\n",
    "\n",
    "3. **Meses de Alta Demanda**:\n",
    "   - **Outubro** aparece como um mês crítico, com consumo elevado em todos os anos (ex: 2,016,670.77 MWm em out/2019).\n",
    "\n",
    "**Insights:**\n",
    "\n",
    "- **Padrão Sazonal**: A repetição de picos em janeiro e outubro sugere influência de fatores climáticos (verão) e econômicos (fim de ano).\n",
    "- **Eficiência Operacional**: A queda consistente em junho pode ser explorada para manutenções programadas ou campanhas de eficiência energética.\n",
    "- **Impacto Econômico**: O crescimento interanual reflete possivelmente a expansão industrial ou mudanças nos hábitos de consumo."
   ]
  },
  {
   "cell_type": "code",
   "execution_count": 0,
   "metadata": {
    "application/vnd.databricks.v1+cell": {
     "cellMetadata": {
      "byteLimit": 2048000,
      "rowLimit": 10000
     },
     "inputWidgets": {},
     "nuid": "20c9d1b7-5fb0-4dab-af8c-8561162ca5f6",
     "showTitle": false,
     "tableResultSettingsMap": {},
     "title": ""
    }
   },
   "outputs": [
    {
     "output_type": "stream",
     "name": "stderr",
     "output_type": "stream",
     "text": [
      "INFO:py4j.clientserver:Received command c on object id p0\n"
     ]
    },
    {
     "output_type": "display_data",
     "data": {
      "text/html": [
       "<style scoped>\n",
       "  .table-result-container {\n",
       "    max-height: 300px;\n",
       "    overflow: auto;\n",
       "  }\n",
       "  table, th, td {\n",
       "    border: 1px solid black;\n",
       "    border-collapse: collapse;\n",
       "  }\n",
       "  th, td {\n",
       "    padding: 5px;\n",
       "  }\n",
       "  th {\n",
       "    text-align: left;\n",
       "  }\n",
       "</style><div class='table-result-container'><table class='table-result'><thead style='background-color: white'><tr><th>nome_ramo</th><th>total_consumo_mwm</th></tr></thead><tbody><tr><td>ACR</td><td>2.526582755E7</td></tr><tr><td>METALURGIA E PRODUTOS DE METAL</td><td>2726599.320000002</td></tr><tr><td>QUÍMICOS</td><td>1146440.8599999996</td></tr><tr><td>MINERAIS NÃO-METÁLICOS</td><td>1074777.3099999994</td></tr><tr><td>ALIMENTÍCIOS</td><td>1039151.579999999</td></tr><tr><td>MANUFATURADOS DIVERSOS</td><td>864871.8100000003</td></tr><tr><td>EXTRAÇÃO DE MINERAIS METÁLICOS</td><td>791195.4699999997</td></tr><tr><td>MADEIRA PAPEL E CELULOSE</td><td>715632.1199999996</td></tr><tr><td>SERVIÇOS</td><td>707421.6000000006</td></tr><tr><td>COMÉRCIO</td><td>516457.5799999997</td></tr></tbody></table></div>"
      ]
     },
     "metadata": {
      "application/vnd.databricks.v1+output": {
       "addedWidgets": {},
       "aggData": [],
       "aggError": "",
       "aggOverflow": false,
       "aggSchema": [],
       "aggSeriesLimitReached": false,
       "aggType": "",
       "arguments": {},
       "columnCustomDisplayInfos": {},
       "data": [
        [
         "ACR",
         2.526582755E7
        ],
        [
         "METALURGIA E PRODUTOS DE METAL",
         2726599.320000002
        ],
        [
         "QUÍMICOS",
         1146440.8599999996
        ],
        [
         "MINERAIS NÃO-METÁLICOS",
         1074777.3099999994
        ],
        [
         "ALIMENTÍCIOS",
         1039151.579999999
        ],
        [
         "MANUFATURADOS DIVERSOS",
         864871.8100000003
        ],
        [
         "EXTRAÇÃO DE MINERAIS METÁLICOS",
         791195.4699999997
        ],
        [
         "MADEIRA PAPEL E CELULOSE",
         715632.1199999996
        ],
        [
         "SERVIÇOS",
         707421.6000000006
        ],
        [
         "COMÉRCIO",
         516457.5799999997
        ]
       ],
       "datasetInfos": [],
       "dbfsResultPath": null,
       "isJsonSchema": true,
       "metadata": {},
       "overflow": false,
       "plotOptions": {
        "customPlotOptions": {},
        "displayType": "table",
        "pivotAggregation": null,
        "pivotColumns": null,
        "xColumns": null,
        "yColumns": null
       },
       "removedWidgets": [],
       "schema": [
        {
         "metadata": "{}",
         "name": "nome_ramo",
         "type": "\"string\""
        },
        {
         "metadata": "{}",
         "name": "total_consumo_mwm",
         "type": "\"double\""
        }
       ],
       "type": "table"
      }
     },
     "output_type": "display_data"
    }
   ],
   "source": [
    "display(spark.sql(\"SELECT * FROM gold_top_ramos\"))\n"
   ]
  },
  {
   "cell_type": "markdown",
   "metadata": {
    "application/vnd.databricks.v1+cell": {
     "cellMetadata": {},
     "inputWidgets": {},
     "nuid": "2221c10e-601c-4c2e-b267-bb6b122a44ee",
     "showTitle": false,
     "tableResultSettingsMap": {},
     "title": ""
    }
   },
   "source": [
    "### 5.2.3. Análise de Tendência Mensal de Consumo de Energia (2018-2020)"
   ]
  },
  {
   "cell_type": "code",
   "execution_count": 0,
   "metadata": {
    "application/vnd.databricks.v1+cell": {
     "cellMetadata": {
      "byteLimit": 2048000,
      "rowLimit": 10000
     },
     "inputWidgets": {},
     "nuid": "5aed4898-99d4-4d9e-9413-a7641f302405",
     "showTitle": false,
     "tableResultSettingsMap": {},
     "title": ""
    }
   },
   "outputs": [
    {
     "output_type": "stream",
     "name": "stderr",
     "output_type": "stream",
     "text": [
      "INFO:py4j.clientserver:Received command c on object id p0\n"
     ]
    },
    {
     "output_type": "display_data",
     "data": {
      "image/png": "[encoded data removed]"
     },
     "metadata": {
      "application/vnd.databricks.v1+output": {
       "addedWidgets": {},
       "arguments": {},
       "data": "data:image/png;base64,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\n",
       "datasetInfos": [],
       "metadata": {},
       "removedWidgets": [],
       "type": "image"
      }
     },
     "output_type": "display_data"
    }
   ],
   "source": [
    "df_ramos = spark.sql(\"SELECT * FROM gold_top_ramos ORDER BY total_consumo_mwm DESC\").toPandas()\n",
    "\n",
    "plt.figure(figsize=(12, 6))\n",
    "sns.barplot(\n",
    "    data=df_ramos,\n",
    "    x='nome_ramo',\n",
    "    y='total_consumo_mwm',\n",
    "    palette='viridis'\n",
    ")\n",
    "plt.title('Top 10 Ramos de Atividade por Consumo de Energia')\n",
    "plt.xlabel('Ramo de Atividade')\n",
    "plt.ylabel('Consumo Total (MWm)')\n",
    "plt.xticks(rotation=45, ha='right')\n",
    "plt.tight_layout()\n",
    "plt.show()"
   ]
  },
  {
   "cell_type": "markdown",
   "metadata": {
    "application/vnd.databricks.v1+cell": {
     "cellMetadata": {},
     "inputWidgets": {},
     "nuid": "c57cc3ce-2977-41ae-a675-1933bebb0915",
     "showTitle": false,
     "tableResultSettingsMap": {},
     "title": ""
    }
   },
   "source": [
    "**Principais Destaques:**\n",
    "\n",
    "1. **Maior Consumo Absoluto**:\n",
    "   - **ACR (Ambiente de Contratação Regulada)** domina com **25,265,827.55 MWm**, representando um volume significativamente maior que os demais ramos.\n",
    "   - **Metalurgia e Produtos de Metal** aparece em segundo lugar com **2,726,599.32 MWm**.\n",
    "\n",
    "2. **Setores Industriais Intensivos**:\n",
    "   - Os ramos **Químicos (1,146,440.86 MWm)**, **Minerais Não-Metálicos (1,074,777.31 MWm)** e **Alimentícios (1,039,151.58 MWm)** formam o grupo de maior consumo industrial após a metalurgia.\n",
    "\n",
    "3. **Consumo em Serviços**:\n",
    "   - O ramo de **Serviços** consome **707,421.60 MWm**, valor próximo ao de indústrias como **Madeira, Papel e Celulose (715,632.12 MWm)**.\n",
    "\n",
    "**Insights:**\n",
    "- **Indústrias Pesadas**: Metalurgia, químicos e minerais não-metálicos confirmam ser setores altamente demandantes de energia, justificando programas de otimização específicos.\n",
    "- **Comparação Setorial**: O consumo do comércio (**516,457.58 MWm**) é ~50% menor que o de serviços, indicando perfis de uso distintos."
   ]
  },
  {
   "cell_type": "markdown",
   "metadata": {
    "application/vnd.databricks.v1+cell": {
     "cellMetadata": {
      "byteLimit": 2048000,
      "rowLimit": 10000
     },
     "inputWidgets": {},
     "nuid": "849618ff-cb53-4e0b-b04c-da1287a94008",
     "showTitle": false,
     "tableResultSettingsMap": {},
     "title": ""
    }
   },
   "source": [
    "### 5.3. Visualização para Tomada de Decisão e Insights"
   ]
  },
  {
   "cell_type": "code",
   "execution_count": 0,
   "metadata": {
    "application/vnd.databricks.v1+cell": {
     "cellMetadata": {
      "byteLimit": 2048000,
      "rowLimit": 10000
     },
     "inputWidgets": {},
     "nuid": "7f9261ea-aff1-415b-aac6-0db992aa7831",
     "showTitle": false,
     "tableResultSettingsMap": {},
     "title": ""
    }
   },
   "outputs": [
    {
     "output_type": "stream",
     "name": "stderr",
     "output_type": "stream",
     "text": [
      "INFO:py4j.clientserver:Received command c on object id p0\n"
     ]
    },
    {
     "output_type": "display_data",
     "data": {
      "text/html": [
       "<style scoped>\n",
       "  .table-result-container {\n",
       "    max-height: 300px;\n",
       "    overflow: auto;\n",
       "  }\n",
       "  table, th, td {\n",
       "    border: 1px solid black;\n",
       "    border-collapse: collapse;\n",
       "  }\n",
       "  th, td {\n",
       "    padding: 5px;\n",
       "  }\n",
       "  th {\n",
       "    text-align: left;\n",
       "  }\n",
       "</style><div class='table-result-container'><table class='table-result'><thead style='background-color: white'><tr><th>ano</th><th>mes</th><th>nome_submercado</th><th>consumo_total</th><th>consumo_anterior</th><th>variacao_mensal</th></tr></thead><tbody><tr><td>2018</td><td>7</td><td>NORDESTE</td><td>294322.70000000036</td><td>null</td><td>null</td></tr><tr><td>2018</td><td>8</td><td>NORDESTE</td><td>304726.21000000054</td><td>294322.70000000036</td><td>3.5347290575956833</td></tr><tr><td>2018</td><td>9</td><td>NORDESTE</td><td>299777.0600000002</td><td>304726.21000000054</td><td>-1.6241300674465657</td></tr><tr><td>2018</td><td>10</td><td>NORDESTE</td><td>326985.9400000005</td><td>299777.0600000002</td><td>9.076371620964037</td></tr><tr><td>2018</td><td>11</td><td>NORDESTE</td><td>318025.18999999913</td><td>326985.9400000005</td><td>-2.7404083490566546</td></tr><tr><td>2018</td><td>12</td><td>NORDESTE</td><td>314068.11000000045</td><td>318025.18999999913</td><td>-1.2442662167731708</td></tr><tr><td>2019</td><td>1</td><td>NORDESTE</td><td>326704.84</td><td>314068.11000000045</td><td>4.023563551230832</td></tr><tr><td>2019</td><td>2</td><td>NORDESTE</td><td>299129.43000000017</td><td>326704.84</td><td>-8.440465712108782</td></tr><tr><td>2019</td><td>3</td><td>NORDESTE</td><td>316714.9399999993</td><td>299129.43000000017</td><td>5.878896636816754</td></tr><tr><td>2019</td><td>4</td><td>NORDESTE</td><td>307719.7399999998</td><td>316714.9399999993</td><td>-2.8401565142457468</td></tr><tr><td>2019</td><td>5</td><td>NORDESTE</td><td>318134.3399999995</td><td>307719.7399999998</td><td>3.3844432599610577</td></tr><tr><td>2019</td><td>6</td><td>NORDESTE</td><td>248515.80999999947</td><td>318134.3399999995</td><td>-21.883374803235682</td></tr><tr><td>2019</td><td>7</td><td>NORDESTE</td><td>291334.66000000085</td><td>248515.80999999947</td><td>17.229829361762324</td></tr><tr><td>2019</td><td>8</td><td>NORDESTE</td><td>292379.2900000001</td><td>291334.66000000085</td><td>0.3585670170515396</td></tr><tr><td>2019</td><td>9</td><td>NORDESTE</td><td>294464.15</td><td>292379.2900000001</td><td>0.7130669207110829</td></tr><tr><td>2019</td><td>10</td><td>NORDESTE</td><td>321965.62000000017</td><td>294464.15</td><td>9.33949684537155</td></tr><tr><td>2019</td><td>11</td><td>NORDESTE</td><td>322190.0700000003</td><td>321965.62000000017</td><td>0.06971241215137441</td></tr><tr><td>2019</td><td>12</td><td>NORDESTE</td><td>332562.10999999975</td><td>322190.0700000003</td><td>3.2192301891859816</td></tr><tr><td>2020</td><td>1</td><td>NORDESTE</td><td>326227.6800000007</td><td>332562.10999999975</td><td>-1.9047359303797615</td></tr><tr><td>2018</td><td>7</td><td>NORTE</td><td>148627.29</td><td>null</td><td>null</td></tr><tr><td>2018</td><td>8</td><td>NORTE</td><td>152982.36000000007</td><td>148627.29</td><td>2.93019539009294</td></tr><tr><td>2018</td><td>9</td><td>NORTE</td><td>152581.4300000004</td><td>152982.36000000007</td><td>-0.26207596745119677</td></tr><tr><td>2018</td><td>10</td><td>NORTE</td><td>161072.07</td><td>152581.4300000004</td><td>5.564661440123863</td></tr><tr><td>2018</td><td>11</td><td>NORTE</td><td>152179.3499999998</td><td>161072.07</td><td>-5.520957171532101</td></tr><tr><td>2018</td><td>12</td><td>NORTE</td><td>142605.94000000032</td><td>152179.3499999998</td><td>-6.290873236085903</td></tr><tr><td>2019</td><td>1</td><td>NORTE</td><td>144515.43000000005</td><td>142605.94000000032</td><td>1.338997520018959</td></tr><tr><td>2019</td><td>2</td><td>NORTE</td><td>131072.66000000015</td><td>144515.43000000005</td><td>-9.30196173515859</td></tr><tr><td>2019</td><td>3</td><td>NORTE</td><td>145592.33</td><td>131072.66000000015</td><td>11.077573309338364</td></tr><tr><td>2019</td><td>4</td><td>NORTE</td><td>140902.89999999994</td><td>145592.33</td><td>-3.2209320367357615</td></tr><tr><td>2019</td><td>5</td><td>NORTE</td><td>151365.87000000002</td><td>140902.89999999994</td><td>7.425659798343465</td></tr><tr><td>2019</td><td>6</td><td>NORTE</td><td>131309.64999999988</td><td>151365.87000000002</td><td>-13.250160026167157</td></tr><tr><td>2019</td><td>7</td><td>NORTE</td><td>156667.2499999999</td><td>131309.64999999988</td><td>19.311299664571536</td></tr><tr><td>2019</td><td>8</td><td>NORTE</td><td>163447.1899999997</td><td>156667.2499999999</td><td>4.327605163172139</td></tr><tr><td>2019</td><td>9</td><td>NORTE</td><td>162431.60999999996</td><td>163447.1899999997</td><td>-0.621350541419376</td></tr><tr><td>2019</td><td>10</td><td>NORTE</td><td>165226.75</td><td>162431.60999999996</td><td>1.72081037674874</td></tr><tr><td>2019</td><td>11</td><td>NORTE</td><td>162820.2299999998</td><td>165226.75</td><td>-1.456495391938771</td></tr><tr><td>2019</td><td>12</td><td>NORTE</td><td>164355.25000000006</td><td>162820.2299999998</td><td>0.9427698265751457</td></tr><tr><td>2020</td><td>1</td><td>NORTE</td><td>156763.09000000003</td><td>164355.25000000006</td><td>-4.619359588452471</td></tr><tr><td>2018</td><td>7</td><td>SUDESTE / CENTRO-OESTE</td><td>1078114.4400000009</td><td>null</td><td>null</td></tr><tr><td>2018</td><td>8</td><td>SUDESTE / CENTRO-OESTE</td><td>1087460.6099999987</td><td>1078114.4400000009</td><td>0.8668996215279171</td></tr><tr><td>2018</td><td>9</td><td>SUDESTE / CENTRO-OESTE</td><td>1075082.959999999</td><td>1087460.6099999987</td><td>-1.1382159396099587</td></tr><tr><td>2018</td><td>10</td><td>SUDESTE / CENTRO-OESTE</td><td>1141171.5600000022</td><td>1075082.959999999</td><td>6.147302343998009</td></tr><tr><td>2018</td><td>11</td><td>SUDESTE / CENTRO-OESTE</td><td>1092562.9800000056</td><td>1141171.5600000022</td><td>-4.259533071433755</td></tr><tr><td>2018</td><td>12</td><td>SUDESTE / CENTRO-OESTE</td><td>1140853.3300000026</td><td>1092562.9800000056</td><td>4.419914538930911</td></tr><tr><td>2019</td><td>1</td><td>SUDESTE / CENTRO-OESTE</td><td>1242545.5300000005</td><td>1140853.3300000026</td><td>8.913696206680452</td></tr><tr><td>2019</td><td>2</td><td>SUDESTE / CENTRO-OESTE</td><td>1092559.1199999978</td><td>1242545.5300000005</td><td>-12.070898520716794</td></tr><tr><td>2019</td><td>3</td><td>SUDESTE / CENTRO-OESTE</td><td>1167553.0600000094</td><td>1092559.1199999978</td><td>6.864062422545311</td></tr><tr><td>2019</td><td>4</td><td>SUDESTE / CENTRO-OESTE</td><td>1125707.1700000034</td><td>1167553.0600000094</td><td>-3.5840675198098166</td></tr><tr><td>2019</td><td>5</td><td>SUDESTE / CENTRO-OESTE</td><td>1122668.2400000028</td><td>1125707.1700000034</td><td>-0.2699574170786017</td></tr><tr><td>2019</td><td>6</td><td>SUDESTE / CENTRO-OESTE</td><td>900173.6700000013</td><td>1122668.2400000028</td><td>-19.818372166651915</td></tr><tr><td>2019</td><td>7</td><td>SUDESTE / CENTRO-OESTE</td><td>1062808.5700000036</td><td>900173.6700000013</td><td>18.067058104465776</td></tr><tr><td>2019</td><td>8</td><td>SUDESTE / CENTRO-OESTE</td><td>1084883.8900000034</td><td>1062808.5700000036</td><td>2.077073955096143</td></tr><tr><td>2019</td><td>9</td><td>SUDESTE / CENTRO-OESTE</td><td>1112390.4800000028</td><td>1084883.8900000034</td><td>2.535440912483206</td></tr><tr><td>2019</td><td>10</td><td>SUDESTE / CENTRO-OESTE</td><td>1189517.769999997</td><td>1112390.4800000028</td><td>6.933472677687247</td></tr><tr><td>2019</td><td>11</td><td>SUDESTE / CENTRO-OESTE</td><td>1121715.9800000014</td><td>1189517.769999997</td><td>-5.6999392283139905</td></tr><tr><td>2019</td><td>12</td><td>SUDESTE / CENTRO-OESTE</td><td>1113678.2000000014</td><td>1121715.9800000014</td><td>-0.7165610674459695</td></tr><tr><td>2020</td><td>1</td><td>SUDESTE / CENTRO-OESTE</td><td>1169164.8300000075</td><td>1113678.2000000014</td><td>4.982285726703289</td></tr><tr><td>2018</td><td>7</td><td>SUL</td><td>324454.53999999975</td><td>null</td><td>null</td></tr><tr><td>2018</td><td>8</td><td>SUL</td><td>324796.9500000003</td><td>324454.53999999975</td><td>0.10553404492369153</td></tr><tr><td>2018</td><td>9</td><td>SUL</td><td>305813.17000000057</td><td>324796.9500000003</td><td>-5.844814737330421</td></tr><tr><td>2018</td><td>10</td><td>SUL</td><td>326712.31000000006</td><td>305813.17000000057</td><td>6.83395682403065</td></tr><tr><td>2018</td><td>11</td><td>SUL</td><td>332296.48999999935</td><td>326712.31000000006</td><td>1.7092040394802672</td></tr><tr><td>2018</td><td>12</td><td>SUL</td><td>348721.2399999989</td><td>332296.48999999935</td><td>4.9427997268341795</td></tr><tr><td>2019</td><td>1</td><td>SUL</td><td>389451.58000000083</td><td>348721.2399999989</td><td>11.679913732814807</td></tr><tr><td>2019</td><td>2</td><td>SUL</td><td>340602.33</td><td>389451.58000000083</td><td>-12.543086871030464</td></tr><tr><td>2019</td><td>3</td><td>SUL</td><td>351550.32</td><td>340602.33</td><td>3.2143027324563485</td></tr><tr><td>2019</td><td>4</td><td>SUL</td><td>333589.15999999957</td><td>351550.32</td><td>-5.109129185261569</td></tr><tr><td>2019</td><td>5</td><td>SUL</td><td>330252.72000000026</td><td>333589.15999999957</td><td>-1.0001643938308151</td></tr><tr><td>2019</td><td>6</td><td>SUL</td><td>270414.68000000005</td><td>330252.72000000026</td><td>-18.11886363873102</td></tr><tr><td>2019</td><td>7</td><td>SUL</td><td>325997.35000000015</td><td>270414.68000000005</td><td>20.554605245543655</td></tr><tr><td>2019</td><td>8</td><td>SUL</td><td>321334.7400000001</td><td>325997.35000000015</td><td>-1.4302600926050602</td></tr><tr><td>2019</td><td>9</td><td>SUL</td><td>309671.08</td><td>321334.7400000001</td><td>-3.629753819957371</td></tr><tr><td>2019</td><td>10</td><td>SUL</td><td>339960.63000000024</td><td>309671.08</td><td>9.78120075016376</td></tr><tr><td>2019</td><td>11</td><td>SUL</td><td>335386.8599999994</td><td>339960.63000000024</td><td>-1.3453822579399357</td></tr><tr><td>2019</td><td>12</td><td>SUL</td><td>346448.5399999996</td><td>335386.8599999994</td><td>3.2981852658151802</td></tr><tr><td>2020</td><td>1</td><td>SUL</td><td>373889.7000000003</td><td>346448.5399999996</td><td>7.920703028507716</td></tr></tbody></table></div>"
      ]
     },
     "metadata": {
      "application/vnd.databricks.v1+output": {
       "addedWidgets": {},
       "aggData": [],
       "aggError": "",
       "aggOverflow": false,
       "aggSchema": [],
       "aggSeriesLimitReached": false,
       "aggType": "",
       "arguments": {},
       "columnCustomDisplayInfos": {},
       "data": [
        [
         2018,
         7,
         "NORDESTE",
         294322.70000000036,
         null,
         null
        ],
        [
         2018,
         8,
         "NORDESTE",
         304726.21000000054,
         294322.70000000036,
         3.5347290575956833
        ],
        [
         2018,
         9,
         "NORDESTE",
         299777.0600000002,
         304726.21000000054,
         -1.6241300674465657
        ],
        [
         2018,
         10,
         "NORDESTE",
         326985.9400000005,
         299777.0600000002,
         9.076371620964037
        ],
        [
         2018,
         11,
         "NORDESTE",
         318025.18999999913,
         326985.9400000005,
         -2.7404083490566546
        ],
        [
         2018,
         12,
         "NORDESTE",
         314068.11000000045,
         318025.18999999913,
         -1.2442662167731708
        ],
        [
         2019,
         1,
         "NORDESTE",
         326704.84,
         314068.11000000045,
         4.023563551230832
        ],
        [
         2019,
         2,
         "NORDESTE",
         299129.43000000017,
         326704.84,
         -8.440465712108782
        ],
        [
         2019,
         3,
         "NORDESTE",
         316714.9399999993,
         299129.43000000017,
         5.878896636816754
        ],
        [
         2019,
         4,
         "NORDESTE",
         307719.7399999998,
         316714.9399999993,
         -2.8401565142457468
        ],
        [
         2019,
         5,
         "NORDESTE",
         318134.3399999995,
         307719.7399999998,
         3.3844432599610577
        ],
        [
         2019,
         6,
         "NORDESTE",
         248515.80999999947,
         318134.3399999995,
         -21.883374803235682
        ],
        [
         2019,
         7,
         "NORDESTE",
         291334.66000000085,
         248515.80999999947,
         17.229829361762324
        ],
        [
         2019,
         8,
         "NORDESTE",
         292379.2900000001,
         291334.66000000085,
         0.3585670170515396
        ],
        [
         2019,
         9,
         "NORDESTE",
         294464.15,
         292379.2900000001,
         0.7130669207110829
        ],
        [
         2019,
         10,
         "NORDESTE",
         321965.62000000017,
         294464.15,
         9.33949684537155
        ],
        [
         2019,
         11,
         "NORDESTE",
         322190.0700000003,
         321965.62000000017,
         0.06971241215137441
        ],
        [
         2019,
         12,
         "NORDESTE",
         332562.10999999975,
         322190.0700000003,
         3.2192301891859816
        ],
        [
         2020,
         1,
         "NORDESTE",
         326227.6800000007,
         332562.10999999975,
         -1.9047359303797615
        ],
        [
         2018,
         7,
         "NORTE",
         148627.29,
         null,
         null
        ],
        [
         2018,
         8,
         "NORTE",
         152982.36000000007,
         148627.29,
         2.93019539009294
        ],
        [
         2018,
         9,
         "NORTE",
         152581.4300000004,
         152982.36000000007,
         -0.26207596745119677
        ],
        [
         2018,
         10,
         "NORTE",
         161072.07,
         152581.4300000004,
         5.564661440123863
        ],
        [
         2018,
         11,
         "NORTE",
         152179.3499999998,
         161072.07,
         -5.520957171532101
        ],
        [
         2018,
         12,
         "NORTE",
         142605.94000000032,
         152179.3499999998,
         -6.290873236085903
        ],
        [
         2019,
         1,
         "NORTE",
         144515.43000000005,
         142605.94000000032,
         1.338997520018959
        ],
        [
         2019,
         2,
         "NORTE",
         131072.66000000015,
         144515.43000000005,
         -9.30196173515859
        ],
        [
         2019,
         3,
         "NORTE",
         145592.33,
         131072.66000000015,
         11.077573309338364
        ],
        [
         2019,
         4,
         "NORTE",
         140902.89999999994,
         145592.33,
         -3.2209320367357615
        ],
        [
         2019,
         5,
         "NORTE",
         151365.87000000002,
         140902.89999999994,
         7.425659798343465
        ],
        [
         2019,
         6,
         "NORTE",
         131309.64999999988,
         151365.87000000002,
         -13.250160026167157
        ],
        [
         2019,
         7,
         "NORTE",
         156667.2499999999,
         131309.64999999988,
         19.311299664571536
        ],
        [
         2019,
         8,
         "NORTE",
         163447.1899999997,
         156667.2499999999,
         4.327605163172139
        ],
        [
         2019,
         9,
         "NORTE",
         162431.60999999996,
         163447.1899999997,
         -0.621350541419376
        ],
        [
         2019,
         10,
         "NORTE",
         165226.75,
         162431.60999999996,
         1.72081037674874
        ],
        [
         2019,
         11,
         "NORTE",
         162820.2299999998,
         165226.75,
         -1.456495391938771
        ],
        [
         2019,
         12,
         "NORTE",
         164355.25000000006,
         162820.2299999998,
         0.9427698265751457
        ],
        [
         2020,
         1,
         "NORTE",
         156763.09000000003,
         164355.25000000006,
         -4.619359588452471
        ],
        [
         2018,
         7,
         "SUDESTE / CENTRO-OESTE",
         1078114.4400000009,
         null,
         null
        ],
        [
         2018,
         8,
         "SUDESTE / CENTRO-OESTE",
         1087460.6099999987,
         1078114.4400000009,
         0.8668996215279171
        ],
        [
         2018,
         9,
         "SUDESTE / CENTRO-OESTE",
         1075082.959999999,
         1087460.6099999987,
         -1.1382159396099587
        ],
        [
         2018,
         10,
         "SUDESTE / CENTRO-OESTE",
         1141171.5600000022,
         1075082.959999999,
         6.147302343998009
        ],
        [
         2018,
         11,
         "SUDESTE / CENTRO-OESTE",
         1092562.9800000056,
         1141171.5600000022,
         -4.259533071433755
        ],
        [
         2018,
         12,
         "SUDESTE / CENTRO-OESTE",
         1140853.3300000026,
         1092562.9800000056,
         4.419914538930911
        ],
        [
         2019,
         1,
         "SUDESTE / CENTRO-OESTE",
         1242545.5300000005,
         1140853.3300000026,
         8.913696206680452
        ],
        [
         2019,
         2,
         "SUDESTE / CENTRO-OESTE",
         1092559.1199999978,
         1242545.5300000005,
         -12.070898520716794
        ],
        [
         2019,
         3,
         "SUDESTE / CENTRO-OESTE",
         1167553.0600000094,
         1092559.1199999978,
         6.864062422545311
        ],
        [
         2019,
         4,
         "SUDESTE / CENTRO-OESTE",
         1125707.1700000034,
         1167553.0600000094,
         -3.5840675198098166
        ],
        [
         2019,
         5,
         "SUDESTE / CENTRO-OESTE",
         1122668.2400000028,
         1125707.1700000034,
         -0.2699574170786017
        ],
        [
         2019,
         6,
         "SUDESTE / CENTRO-OESTE",
         900173.6700000013,
         1122668.2400000028,
         -19.818372166651915
        ],
        [
         2019,
         7,
         "SUDESTE / CENTRO-OESTE",
         1062808.5700000036,
         900173.6700000013,
         18.067058104465776
        ],
        [
         2019,
         8,
         "SUDESTE / CENTRO-OESTE",
         1084883.8900000034,
         1062808.5700000036,
         2.077073955096143
        ],
        [
         2019,
         9,
         "SUDESTE / CENTRO-OESTE",
         1112390.4800000028,
         1084883.8900000034,
         2.535440912483206
        ],
        [
         2019,
         10,
         "SUDESTE / CENTRO-OESTE",
         1189517.769999997,
         1112390.4800000028,
         6.933472677687247
        ],
        [
         2019,
         11,
         "SUDESTE / CENTRO-OESTE",
         1121715.9800000014,
         1189517.769999997,
         -5.6999392283139905
        ],
        [
         2019,
         12,
         "SUDESTE / CENTRO-OESTE",
         1113678.2000000014,
         1121715.9800000014,
         -0.7165610674459695
        ],
        [
         2020,
         1,
         "SUDESTE / CENTRO-OESTE",
         1169164.8300000075,
         1113678.2000000014,
         4.982285726703289
        ],
        [
         2018,
         7,
         "SUL",
         324454.53999999975,
         null,
         null
        ],
        [
         2018,
         8,
         "SUL",
         324796.9500000003,
         324454.53999999975,
         0.10553404492369153
        ],
        [
         2018,
         9,
         "SUL",
         305813.17000000057,
         324796.9500000003,
         -5.844814737330421
        ],
        [
         2018,
         10,
         "SUL",
         326712.31000000006,
         305813.17000000057,
         6.83395682403065
        ],
        [
         2018,
         11,
         "SUL",
         332296.48999999935,
         326712.31000000006,
         1.7092040394802672
        ],
        [
         2018,
         12,
         "SUL",
         348721.2399999989,
         332296.48999999935,
         4.9427997268341795
        ],
        [
         2019,
         1,
         "SUL",
         389451.58000000083,
         348721.2399999989,
         11.679913732814807
        ],
        [
         2019,
         2,
         "SUL",
         340602.33,
         389451.58000000083,
         -12.543086871030464
        ],
        [
         2019,
         3,
         "SUL",
         351550.32,
         340602.33,
         3.2143027324563485
        ],
        [
         2019,
         4,
         "SUL",
         333589.15999999957,
         351550.32,
         -5.109129185261569
        ],
        [
         2019,
         5,
         "SUL",
         330252.72000000026,
         333589.15999999957,
         -1.0001643938308151
        ],
        [
         2019,
         6,
         "SUL",
         270414.68000000005,
         330252.72000000026,
         -18.11886363873102
        ],
        [
         2019,
         7,
         "SUL",
         325997.35000000015,
         270414.68000000005,
         20.554605245543655
        ],
        [
         2019,
         8,
         "SUL",
         321334.7400000001,
         325997.35000000015,
         -1.4302600926050602
        ],
        [
         2019,
         9,
         "SUL",
         309671.08,
         321334.7400000001,
         -3.629753819957371
        ],
        [
         2019,
         10,
         "SUL",
         339960.63000000024,
         309671.08,
         9.78120075016376
        ],
        [
         2019,
         11,
         "SUL",
         335386.8599999994,
         339960.63000000024,
         -1.3453822579399357
        ],
        [
         2019,
         12,
         "SUL",
         346448.5399999996,
         335386.8599999994,
         3.2981852658151802
        ],
        [
         2020,
         1,
         "SUL",
         373889.7000000003,
         346448.5399999996,
         7.920703028507716
        ]
       ],
       "datasetInfos": [],
       "dbfsResultPath": null,
       "isJsonSchema": true,
       "metadata": {},
       "overflow": false,
       "plotOptions": {
        "customPlotOptions": {},
        "displayType": "table",
        "pivotAggregation": null,
        "pivotColumns": null,
        "xColumns": null,
        "yColumns": null
       },
       "removedWidgets": [],
       "schema": [
        {
         "metadata": "{}",
         "name": "ano",
         "type": "\"integer\""
        },
        {
         "metadata": "{}",
         "name": "mes",
         "type": "\"integer\""
        },
        {
         "metadata": "{}",
         "name": "nome_submercado",
         "type": "\"string\""
        },
        {
         "metadata": "{}",
         "name": "consumo_total",
         "type": "\"double\""
        },
        {
         "metadata": "{}",
         "name": "consumo_anterior",
         "type": "\"double\""
        },
        {
         "metadata": "{}",
         "name": "variacao_mensal",
         "type": "\"double\""
        }
       ],
       "type": "table"
      }
     },
     "output_type": "display_data"
    }
   ],
   "source": [
    "display(spark.sql(\"SELECT * FROM gold_tendencia_mensal_avancada\"))\n"
   ]
  },
  {
   "cell_type": "code",
   "execution_count": 0,
   "metadata": {
    "application/vnd.databricks.v1+cell": {
     "cellMetadata": {
      "byteLimit": 2048000,
      "rowLimit": 10000
     },
     "inputWidgets": {},
     "nuid": "458bc24c-fdcd-4688-bb79-d94d4c61bc09",
     "showTitle": false,
     "tableResultSettingsMap": {},
     "title": ""
    }
   },
   "outputs": [
    {
     "output_type": "stream",
     "name": "stderr",
     "output_type": "stream",
     "text": [
      "INFO:py4j.clientserver:Received command c on object id p0\n"
     ]
    },
    {
     "output_type": "display_data",
     "data": {
      "image/png": "[encoded data removed]"
     },
     "metadata": {
      "application/vnd.databricks.v1+output": {
       "addedWidgets": {},
       "arguments": {},
       "data": "data:image/png;base64,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\n",
       "datasetInfos": [],
       "metadata": {},
       "removedWidgets": [],
       "type": "image"
      }
     },
     "output_type": "display_data"
    }
   ],
   "source": [
    "# Preparar dados para heatmap\n",
    "df_heatmap = spark.sql(\"\"\"\n",
    "    SELECT \n",
    "        nome_submercado,\n",
    "        mes,\n",
    "        AVG(variacao_mensal) as variacao_media\n",
    "    FROM gold_tendencia_mensal_avancada\n",
    "    WHERE variacao_mensal IS NOT NULL\n",
    "    GROUP BY nome_submercado, mes\n",
    "    ORDER BY nome_submercado, mes\n",
    "\"\"\").toPandas()\n",
    "\n",
    "# Pivotar tabela para heatmap\n",
    "heatmap_data = df_heatmap.pivot(\"mes\", \"nome_submercado\", \"variacao_media\")\n",
    "\n",
    "plt.figure(figsize=(10, 6))\n",
    "sns.heatmap(\n",
    "    heatmap_data,\n",
    "    annot=True,\n",
    "    fmt=\".1f\",\n",
    "    cmap=\"RdYlGn\",\n",
    "    center=0,\n",
    "    linewidths=.5\n",
    ")\n",
    "plt.title('Variação Percentual Mensal do Consumo por Submercado')\n",
    "plt.xlabel('Submercado')\n",
    "plt.ylabel('Mês')\n",
    "plt.show()"
   ]
  },
  {
   "cell_type": "code",
   "execution_count": 0,
   "metadata": {
    "application/vnd.databricks.v1+cell": {
     "cellMetadata": {
      "byteLimit": 2048000,
      "rowLimit": 10000
     },
     "inputWidgets": {},
     "nuid": "5c371f6b-4728-4cba-bc92-c8cd7fa8eff8",
     "showTitle": false,
     "tableResultSettingsMap": {},
     "title": ""
    }
   },
   "outputs": [
    {
     "output_type": "stream",
     "name": "stderr",
     "output_type": "stream",
     "text": [
      "INFO:py4j.clientserver:Received command c on object id p0\n"
     ]
    },
    {
     "output_type": "display_data",
     "data": {
      "image/png": "[encoded data removed]"
     },
     "metadata": {
      "application/vnd.databricks.v1+output": {
       "addedWidgets": {},
       "arguments": {},
       "data": "data:image/png;base64,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\n",
       "datasetInfos": [],
       "metadata": {},
       "removedWidgets": [],
       "type": "image"
      }
     },
     "output_type": "display_data"
    }
   ],
   "source": [
    "# Converter dados para Pandas para visualização\n",
    "df_tendencia = spark.sql(\"\"\"\n",
    "    SELECT \n",
    "        ano, \n",
    "        mes, \n",
    "        nome_submercado, \n",
    "        consumo_total \n",
    "    FROM gold_tendencia_mensal_avancada\n",
    "    ORDER BY ano, mes, nome_submercado\n",
    "\"\"\").toPandas()\n",
    "\n",
    "# Criar gráfico de linhas\n",
    "plt.figure(figsize=(12, 6))\n",
    "sns.lineplot(\n",
    "    data=df_tendencia,\n",
    "    x='mes',\n",
    "    y='consumo_total',\n",
    "    hue='nome_submercado',\n",
    "    style='nome_submercado',\n",
    "    markers=True\n",
    ")\n",
    "plt.title('Consumo Mensal de Energia por Submercado (2018-2020)')\n",
    "plt.xlabel('Mês')\n",
    "plt.ylabel('Consumo Total (MWm)')\n",
    "plt.xticks(range(1, 13))\n",
    "plt.grid(True)\n",
    "plt.legend(title='Submercado', bbox_to_anchor=(1.05, 1), loc='upper left')\n",
    "plt.tight_layout()\n",
    "plt.show()"
   ]
  },
  {
   "cell_type": "code",
   "execution_count": 0,
   "metadata": {
    "application/vnd.databricks.v1+cell": {
     "cellMetadata": {
      "byteLimit": 2048000,
      "rowLimit": 10000
     },
     "inputWidgets": {},
     "nuid": "fca5b01c-3a55-4e17-b546-80cabd571948",
     "showTitle": false,
     "tableResultSettingsMap": {},
     "title": ""
    }
   },
   "outputs": [],
   "source": [
    "# Criar tabela de monitoramento\n",
    "spark.sql(\"\"\"\n",
    "CREATE TABLE IF NOT EXISTS pipeline_monitoring (\n",
    "    execution_id STRING,\n",
    "    pipeline_version STRING,\n",
    "    start_time TIMESTAMP,\n",
    "    end_time TIMESTAMP,\n",
    "    step_name STRING,\n",
    "    records_processed LONG,\n",
    "    status STRING,\n",
    "    error_message STRING\n",
    ") USING DELTA LOCATION '/mnt/monitoring/pipeline_logs'\n",
    "\"\"\")\n",
    "\n",
    "# Função para registrar execuções\n",
    "def log_execution(step_name, records, status, error=None):\n",
    "    spark.sql(f\"\"\"\n",
    "    INSERT INTO pipeline_monitoring VALUES (\n",
    "        '{str(uuid.uuid4())}',\n",
    "        'v1.0',\n",
    "        current_timestamp(),\n",
    "        NULL,\n",
    "        '{step_name}',\n",
    "        {records},\n",
    "        '{status}',\n",
    "        {'NULL' if error is None else f\"'{error}'\"}\n",
    "    )\n",
    "    \"\"\")"
   ]
  },
  {
   "cell_type": "markdown",
   "metadata": {
    "application/vnd.databricks.v1+cell": {
     "cellMetadata": {
      "byteLimit": 2048000,
      "rowLimit": 10000
     },
     "inputWidgets": {},
     "nuid": "d519f873-7500-4492-90c7-084940913d28",
     "showTitle": false,
     "tableResultSettingsMap": {},
     "title": ""
    }
   },
   "source": [
    "# Autoavaliação\n",
    "\n",
    "**Objetivos Alcançados**:\n",
    "- [X] Modelagem completa em esquema estrela\n",
    "- [X] Pipeline funcional nas 3 camadas\n",
    "- [X] Resposta a 4 das 4 perguntas iniciais\n",
    "\n",
    "**Melhorias Futuras**:\n",
    "1. Adicionar fontes de dados meteorológicos para correlacionar clima e consumo\n",
    "2. Dashboard interativo para acompanhamento mensal"
   ]
  }
 ],
 "metadata": {
  "application/vnd.databricks.v1+notebook": {
   "computePreferences": null,
   "dashboards": [],
   "environmentMetadata": {
    "base_environment": "",
    "environment_version": "1"
   },
   "inputWidgetPreferences": null,
   "language": "python",
   "notebookMetadata": {
    "mostRecentlyExecutedCommandWithImplicitDF": {
     "commandId": 3969922113558751,
     "dataframes": [
      "_sqldf"
     ]
    },
    "pythonIndentUnit": 4
   },
   "notebookName": "MVP",
   "widgets": {}
  }
 },
 "nbformat": 4,
 "nbformat_minor": 0
}